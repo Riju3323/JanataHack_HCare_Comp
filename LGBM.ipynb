{
  "nbformat": 4,
  "nbformat_minor": 0,
  "metadata": {
    "colab": {
      "name": "LGBM.ipynb",
      "provenance": [],
      "collapsed_sections": [],
      "mount_file_id": "1NXQfZo1gt9IOQiYpMzkJmai0Y8B3tW6r",
      "authorship_tag": "ABX9TyMRgGCFXJmjURZksaIbEp/d",
      "include_colab_link": true
    },
    "kernelspec": {
      "name": "python3",
      "display_name": "Python 3"
    },
    "language_info": {
      "name": "python"
    }
  },
  "cells": [
    {
      "cell_type": "markdown",
      "metadata": {
        "id": "view-in-github",
        "colab_type": "text"
      },
      "source": [
        "<a href=\"https://colab.research.google.com/github/Riju3323/JanataHack_HCare_Comp/blob/main/LGBM.ipynb\" target=\"_parent\"><img src=\"https://colab.research.google.com/assets/colab-badge.svg\" alt=\"Open In Colab\"/></a>"
      ]
    },
    {
      "cell_type": "markdown",
      "metadata": {
        "id": "stBKRptMqLGJ"
      },
      "source": [
        "Initialising all libraries."
      ]
    },
    {
      "cell_type": "code",
      "metadata": {
        "id": "1kplMUiJb0f9"
      },
      "source": [
        "import numpy as np\n",
        "import pandas as pd\n",
        "from matplotlib import pyplot as plt\n",
        "from sklearn import preprocessing\n",
        "from sklearn.model_selection import train_test_split\n",
        "from sklearn.metrics import accuracy_score\n",
        "%matplotlib inline\n",
        "import warnings\n",
        "warnings.filterwarnings('ignore')"
      ],
      "execution_count": null,
      "outputs": []
    },
    {
      "cell_type": "markdown",
      "metadata": {
        "id": "oxR3b8uNqjUE"
      },
      "source": [
        "Importing LGBM"
      ]
    },
    {
      "cell_type": "code",
      "metadata": {
        "id": "Hr-_hCekqtGM"
      },
      "source": [
        "import lightgbm as lgb"
      ],
      "execution_count": null,
      "outputs": []
    },
    {
      "cell_type": "markdown",
      "metadata": {
        "id": "4vynZ14Rq2Fr"
      },
      "source": [
        "Accessing all provided data with Pandas"
      ]
    },
    {
      "cell_type": "code",
      "metadata": {
        "id": "NbhJFStqdYxl"
      },
      "source": [
        "df_train = pd.read_csv('/content/drive/MyDrive/AV Proj/train.csv')\n",
        "df_train_dict = pd.read_csv('/content/drive/MyDrive/AV Proj/train_data_dict.csv')\n",
        "df_test = pd.read_csv('/content/drive/MyDrive/AV Proj/test.csv')\n",
        "sample_op = pd.read_csv('/content/drive/MyDrive/AV Proj/sample_submission_lfbv3c3 (1).csv')"
      ],
      "execution_count": null,
      "outputs": []
    },
    {
      "cell_type": "code",
      "metadata": {
        "colab": {
          "base_uri": "https://localhost:8080/",
          "height": 360
        },
        "id": "f2NngVZAd17j",
        "outputId": "955bcc92-d257-4e2b-d41e-2449b0a50936"
      },
      "source": [
        "df_train.head()\n",
        "#printing train data set\n"
      ],
      "execution_count": null,
      "outputs": [
        {
          "output_type": "execute_result",
          "data": {
            "text/html": [
              "<div>\n",
              "<style scoped>\n",
              "    .dataframe tbody tr th:only-of-type {\n",
              "        vertical-align: middle;\n",
              "    }\n",
              "\n",
              "    .dataframe tbody tr th {\n",
              "        vertical-align: top;\n",
              "    }\n",
              "\n",
              "    .dataframe thead th {\n",
              "        text-align: right;\n",
              "    }\n",
              "</style>\n",
              "<table border=\"1\" class=\"dataframe\">\n",
              "  <thead>\n",
              "    <tr style=\"text-align: right;\">\n",
              "      <th></th>\n",
              "      <th>case_id</th>\n",
              "      <th>Hospital_code</th>\n",
              "      <th>Hospital_type_code</th>\n",
              "      <th>City_Code_Hospital</th>\n",
              "      <th>Hospital_region_code</th>\n",
              "      <th>Available Extra Rooms in Hospital</th>\n",
              "      <th>Department</th>\n",
              "      <th>Ward_Type</th>\n",
              "      <th>Ward_Facility_Code</th>\n",
              "      <th>Bed Grade</th>\n",
              "      <th>patientid</th>\n",
              "      <th>City_Code_Patient</th>\n",
              "      <th>Type of Admission</th>\n",
              "      <th>Severity of Illness</th>\n",
              "      <th>Visitors with Patient</th>\n",
              "      <th>Age</th>\n",
              "      <th>Admission_Deposit</th>\n",
              "      <th>Stay</th>\n",
              "    </tr>\n",
              "  </thead>\n",
              "  <tbody>\n",
              "    <tr>\n",
              "      <th>0</th>\n",
              "      <td>1</td>\n",
              "      <td>8</td>\n",
              "      <td>c</td>\n",
              "      <td>3</td>\n",
              "      <td>Z</td>\n",
              "      <td>3</td>\n",
              "      <td>radiotherapy</td>\n",
              "      <td>R</td>\n",
              "      <td>F</td>\n",
              "      <td>2.0</td>\n",
              "      <td>31397</td>\n",
              "      <td>7.0</td>\n",
              "      <td>Emergency</td>\n",
              "      <td>Extreme</td>\n",
              "      <td>2</td>\n",
              "      <td>51-60</td>\n",
              "      <td>4911.0</td>\n",
              "      <td>0-10</td>\n",
              "    </tr>\n",
              "    <tr>\n",
              "      <th>1</th>\n",
              "      <td>2</td>\n",
              "      <td>2</td>\n",
              "      <td>c</td>\n",
              "      <td>5</td>\n",
              "      <td>Z</td>\n",
              "      <td>2</td>\n",
              "      <td>radiotherapy</td>\n",
              "      <td>S</td>\n",
              "      <td>F</td>\n",
              "      <td>2.0</td>\n",
              "      <td>31397</td>\n",
              "      <td>7.0</td>\n",
              "      <td>Trauma</td>\n",
              "      <td>Extreme</td>\n",
              "      <td>2</td>\n",
              "      <td>51-60</td>\n",
              "      <td>5954.0</td>\n",
              "      <td>41-50</td>\n",
              "    </tr>\n",
              "    <tr>\n",
              "      <th>2</th>\n",
              "      <td>3</td>\n",
              "      <td>10</td>\n",
              "      <td>e</td>\n",
              "      <td>1</td>\n",
              "      <td>X</td>\n",
              "      <td>2</td>\n",
              "      <td>anesthesia</td>\n",
              "      <td>S</td>\n",
              "      <td>E</td>\n",
              "      <td>2.0</td>\n",
              "      <td>31397</td>\n",
              "      <td>7.0</td>\n",
              "      <td>Trauma</td>\n",
              "      <td>Extreme</td>\n",
              "      <td>2</td>\n",
              "      <td>51-60</td>\n",
              "      <td>4745.0</td>\n",
              "      <td>31-40</td>\n",
              "    </tr>\n",
              "    <tr>\n",
              "      <th>3</th>\n",
              "      <td>4</td>\n",
              "      <td>26</td>\n",
              "      <td>b</td>\n",
              "      <td>2</td>\n",
              "      <td>Y</td>\n",
              "      <td>2</td>\n",
              "      <td>radiotherapy</td>\n",
              "      <td>R</td>\n",
              "      <td>D</td>\n",
              "      <td>2.0</td>\n",
              "      <td>31397</td>\n",
              "      <td>7.0</td>\n",
              "      <td>Trauma</td>\n",
              "      <td>Extreme</td>\n",
              "      <td>2</td>\n",
              "      <td>51-60</td>\n",
              "      <td>7272.0</td>\n",
              "      <td>41-50</td>\n",
              "    </tr>\n",
              "    <tr>\n",
              "      <th>4</th>\n",
              "      <td>5</td>\n",
              "      <td>26</td>\n",
              "      <td>b</td>\n",
              "      <td>2</td>\n",
              "      <td>Y</td>\n",
              "      <td>2</td>\n",
              "      <td>radiotherapy</td>\n",
              "      <td>S</td>\n",
              "      <td>D</td>\n",
              "      <td>2.0</td>\n",
              "      <td>31397</td>\n",
              "      <td>7.0</td>\n",
              "      <td>Trauma</td>\n",
              "      <td>Extreme</td>\n",
              "      <td>2</td>\n",
              "      <td>51-60</td>\n",
              "      <td>5558.0</td>\n",
              "      <td>41-50</td>\n",
              "    </tr>\n",
              "  </tbody>\n",
              "</table>\n",
              "</div>"
            ],
            "text/plain": [
              "   case_id  Hospital_code Hospital_type_code  ...    Age Admission_Deposit   Stay\n",
              "0        1              8                  c  ...  51-60            4911.0   0-10\n",
              "1        2              2                  c  ...  51-60            5954.0  41-50\n",
              "2        3             10                  e  ...  51-60            4745.0  31-40\n",
              "3        4             26                  b  ...  51-60            7272.0  41-50\n",
              "4        5             26                  b  ...  51-60            5558.0  41-50\n",
              "\n",
              "[5 rows x 18 columns]"
            ]
          },
          "metadata": {},
          "execution_count": 64
        }
      ]
    },
    {
      "cell_type": "code",
      "metadata": {
        "id": "xiI_1W52rx_N"
      },
      "source": [
        ""
      ],
      "execution_count": null,
      "outputs": []
    },
    {
      "cell_type": "code",
      "metadata": {
        "colab": {
          "base_uri": "https://localhost:8080/"
        },
        "id": "AGj4yz-3eMND",
        "outputId": "4031e548-427c-42a5-bc1a-0482aad7f3bd"
      },
      "source": [
        "df_train.shape\n",
        "#viewing train set shape."
      ],
      "execution_count": null,
      "outputs": [
        {
          "output_type": "execute_result",
          "data": {
            "text/plain": [
              "(318438, 18)"
            ]
          },
          "metadata": {},
          "execution_count": 65
        }
      ]
    },
    {
      "cell_type": "code",
      "metadata": {
        "colab": {
          "base_uri": "https://localhost:8080/"
        },
        "id": "ytZK2Sc-rZtO",
        "outputId": "658ab7fd-101a-4d9c-eb83-1c677ee20730"
      },
      "source": [
        "df_train.isnull().sum()\n",
        "#checking for Null cells"
      ],
      "execution_count": null,
      "outputs": [
        {
          "output_type": "execute_result",
          "data": {
            "text/plain": [
              "case_id                                 0\n",
              "Hospital_code                           0\n",
              "Hospital_type_code                      0\n",
              "City_Code_Hospital                      0\n",
              "Hospital_region_code                    0\n",
              "Available Extra Rooms in Hospital       0\n",
              "Department                              0\n",
              "Ward_Type                               0\n",
              "Ward_Facility_Code                      0\n",
              "Bed Grade                             113\n",
              "patientid                               0\n",
              "City_Code_Patient                    4532\n",
              "Type of Admission                       0\n",
              "Severity of Illness                     0\n",
              "Visitors with Patient                   0\n",
              "Age                                     0\n",
              "Admission_Deposit                       0\n",
              "Stay                                    0\n",
              "dtype: int64"
            ]
          },
          "metadata": {},
          "execution_count": 66
        }
      ]
    },
    {
      "cell_type": "code",
      "metadata": {
        "colab": {
          "base_uri": "https://localhost:8080/"
        },
        "id": "HIRlejZbrmlz",
        "outputId": "6daac2b1-3b86-43ca-f157-0415b3db3e8a"
      },
      "source": [
        "df_train.dtypes\n",
        "#observing all feature types"
      ],
      "execution_count": null,
      "outputs": [
        {
          "output_type": "execute_result",
          "data": {
            "text/plain": [
              "case_id                                int64\n",
              "Hospital_code                          int64\n",
              "Hospital_type_code                    object\n",
              "City_Code_Hospital                     int64\n",
              "Hospital_region_code                  object\n",
              "Available Extra Rooms in Hospital      int64\n",
              "Department                            object\n",
              "Ward_Type                             object\n",
              "Ward_Facility_Code                    object\n",
              "Bed Grade                            float64\n",
              "patientid                              int64\n",
              "City_Code_Patient                    float64\n",
              "Type of Admission                     object\n",
              "Severity of Illness                   object\n",
              "Visitors with Patient                  int64\n",
              "Age                                   object\n",
              "Admission_Deposit                    float64\n",
              "Stay                                  object\n",
              "dtype: object"
            ]
          },
          "metadata": {},
          "execution_count": 67
        }
      ]
    },
    {
      "cell_type": "code",
      "metadata": {
        "id": "DT7v-79jtsVZ"
      },
      "source": [
        "from sklearn.preprocessing import LabelEncoder, StandardScaler\n",
        "\n",
        "le = LabelEncoder()\n",
        "df_train['Stay'] = le.fit_transform(df_train['Stay'])\n",
        "# Label encoding Stay feature and returning encoded values"
      ],
      "execution_count": null,
      "outputs": []
    },
    {
      "cell_type": "code",
      "metadata": {
        "colab": {
          "base_uri": "https://localhost:8080/"
        },
        "id": "bb24EkgitpMo",
        "outputId": "dedf9c1b-54ac-405f-e28c-ed36933c7b45"
      },
      "source": [
        "df_train['Stay'].value_counts()\n",
        "#for viewing spread of encoded values"
      ],
      "execution_count": null,
      "outputs": [
        {
          "output_type": "execute_result",
          "data": {
            "text/plain": [
              "2     87491\n",
              "1     78139\n",
              "3     55159\n",
              "5     35018\n",
              "0     23604\n",
              "4     11743\n",
              "7     10254\n",
              "10     6683\n",
              "8      4838\n",
              "9      2765\n",
              "6      2744\n",
              "Name: Stay, dtype: int64"
            ]
          },
          "metadata": {},
          "execution_count": 69
        }
      ]
    },
    {
      "cell_type": "markdown",
      "metadata": {
        "id": "IGvAjc0uuTxc"
      },
      "source": [
        "Creating a merged test and train table."
      ]
    },
    {
      "cell_type": "code",
      "metadata": {
        "colab": {
          "base_uri": "https://localhost:8080/"
        },
        "id": "jaCSKNjVuZxn",
        "outputId": "a3571d77-233c-4ae2-acb1-2dd84f6a9418"
      },
      "source": [
        "df_train['train_flag'] = 1\n",
        "df_test['train_flag'] = 0\n",
        "# Flags as separation marks between the two sets as we are about to merge.\n",
        "df_test['Stay'] = None\n",
        "#Creating this as a empty cell as test doesn't have it.\n",
        "print(df_train.shape, df_test.shape)\n",
        "\n",
        "df_a = pd.concat((df_train, df_test))\n",
        "print(df_a.shape)"
      ],
      "execution_count": null,
      "outputs": [
        {
          "output_type": "stream",
          "name": "stdout",
          "text": [
            "(318438, 19) (137057, 19)\n",
            "(455495, 19)\n"
          ]
        }
      ]
    },
    {
      "cell_type": "code",
      "metadata": {
        "id": "FKcigAphua0n"
      },
      "source": [
        "df_a.drop(['case_id','patientid'],axis=1,inplace=True)\n",
        "# Removing this columns as low significance in evaluating stay duration."
      ],
      "execution_count": null,
      "outputs": []
    },
    {
      "cell_type": "code",
      "metadata": {
        "id": "RNKyssY4uuwB"
      },
      "source": [
        "df_a['Bed Grade'] = np.where(df_a['Bed Grade'].isna(),1.0,df_a['Bed Grade'])\n",
        "df_a['City_Code_Patient'] = np.where(df_a['City_Code_Patient'].isna(),0.0,df_a['City_Code_Patient'])\n",
        "#As we saw these two features have null values, we are going to use pandas isna() to detect and replace them\n",
        "\n",
        "df_a['Bed Grade'] = df_a['Bed Grade'].astype(int)\n",
        "df_a['City_Code_Patient'] = df_a['City_Code_Patient'].astype(int)\n",
        "df_a['Admission_Deposit'] = df_a['Admission_Deposit'].astype(int)\n",
        "#As we saw, these three features have float types, so converting the float values into int values."
      ],
      "execution_count": null,
      "outputs": []
    },
    {
      "cell_type": "code",
      "metadata": {
        "colab": {
          "base_uri": "https://localhost:8080/"
        },
        "id": "2GmE7FEhxHo5",
        "outputId": "9b8c8149-3a46-46bb-e074-467d99b9c6ca"
      },
      "source": [
        "df_a.dtypes\n",
        "#observing all feature types again"
      ],
      "execution_count": null,
      "outputs": [
        {
          "output_type": "execute_result",
          "data": {
            "text/plain": [
              "Hospital_code                         int64\n",
              "Hospital_type_code                   object\n",
              "City_Code_Hospital                    int64\n",
              "Hospital_region_code                 object\n",
              "Available Extra Rooms in Hospital     int64\n",
              "Department                           object\n",
              "Ward_Type                            object\n",
              "Ward_Facility_Code                   object\n",
              "Bed Grade                             int64\n",
              "City_Code_Patient                     int64\n",
              "Type of Admission                    object\n",
              "Severity of Illness                  object\n",
              "Visitors with Patient                 int64\n",
              "Age                                  object\n",
              "Admission_Deposit                     int64\n",
              "Stay                                 object\n",
              "train_flag                            int64\n",
              "dtype: object"
            ]
          },
          "metadata": {},
          "execution_count": 73
        }
      ]
    },
    {
      "cell_type": "code",
      "metadata": {
        "colab": {
          "base_uri": "https://localhost:8080/"
        },
        "id": "r1IsdTYpxJue",
        "outputId": "39fced89-9bfa-4e90-8432-91cda340e10e"
      },
      "source": [
        "df_a.isnull().sum()\n",
        "#all nulls removed except stay which we set as \"None\""
      ],
      "execution_count": null,
      "outputs": [
        {
          "output_type": "execute_result",
          "data": {
            "text/plain": [
              "Hospital_code                             0\n",
              "Hospital_type_code                        0\n",
              "City_Code_Hospital                        0\n",
              "Hospital_region_code                      0\n",
              "Available Extra Rooms in Hospital         0\n",
              "Department                                0\n",
              "Ward_Type                                 0\n",
              "Ward_Facility_Code                        0\n",
              "Bed Grade                                 0\n",
              "City_Code_Patient                         0\n",
              "Type of Admission                         0\n",
              "Severity of Illness                       0\n",
              "Visitors with Patient                     0\n",
              "Age                                       0\n",
              "Admission_Deposit                         0\n",
              "Stay                                 137057\n",
              "train_flag                                0\n",
              "dtype: int64"
            ]
          },
          "metadata": {},
          "execution_count": 74
        }
      ]
    },
    {
      "cell_type": "code",
      "metadata": {
        "colab": {
          "base_uri": "https://localhost:8080/"
        },
        "id": "tk2XjGavxR-m",
        "outputId": "eaf87459-d6c8-416c-9830-1dad47e54e29"
      },
      "source": [
        "temp=df_a.select_dtypes(['object']).columns\n",
        "temp=temp[:-1]\n",
        "temp\n",
        "#removing stay column"
      ],
      "execution_count": null,
      "outputs": [
        {
          "output_type": "execute_result",
          "data": {
            "text/plain": [
              "Index(['Hospital_type_code', 'Hospital_region_code', 'Department', 'Ward_Type',\n",
              "       'Ward_Facility_Code', 'Type of Admission', 'Severity of Illness',\n",
              "       'Age'],\n",
              "      dtype='object')"
            ]
          },
          "metadata": {},
          "execution_count": 75
        }
      ]
    },
    {
      "cell_type": "code",
      "metadata": {
        "id": "F1543NPKxyEf"
      },
      "source": [
        "df_a = pd.get_dummies(data=df_a,columns=['Hospital_type_code', 'Hospital_region_code', 'Department', 'Ward_Type',\n",
        "       'Ward_Facility_Code', 'Type of Admission', 'Severity of Illness',\n",
        "       'Age'])\n",
        "# creates dummy column for each unique value in this feature"
      ],
      "execution_count": null,
      "outputs": []
    },
    {
      "cell_type": "code",
      "metadata": {
        "id": "WxZfV7NGyoj0"
      },
      "source": [
        "df_train, df_test = df_a[df_a.train_flag == 1], df_a[df_a.train_flag == 0]\n",
        "df_train.drop(['train_flag'], inplace=True, axis=1)\n",
        "df_test.drop(['train_flag'], inplace=True, axis=1)\n",
        "df_test.drop(['Stay'], inplace=True, axis=1)\n",
        "#Dropping these features before gbm\n",
        "del df_a"
      ],
      "execution_count": null,
      "outputs": []
    },
    {
      "cell_type": "code",
      "metadata": {
        "colab": {
          "base_uri": "https://localhost:8080/"
        },
        "id": "sUrts4Vb2Ty6",
        "outputId": "090174f4-232d-4a0a-dbdd-5ac7a919048b"
      },
      "source": [
        "df_train.dtypes"
      ],
      "execution_count": null,
      "outputs": [
        {
          "output_type": "execute_result",
          "data": {
            "text/plain": [
              "Hospital_code                         int64\n",
              "City_Code_Hospital                    int64\n",
              "Available Extra Rooms in Hospital     int64\n",
              "Bed Grade                             int64\n",
              "City_Code_Patient                     int64\n",
              "Visitors with Patient                 int64\n",
              "Admission_Deposit                     int64\n",
              "Stay                                 object\n",
              "Hospital_type_code_a                  uint8\n",
              "Hospital_type_code_b                  uint8\n",
              "Hospital_type_code_c                  uint8\n",
              "Hospital_type_code_d                  uint8\n",
              "Hospital_type_code_e                  uint8\n",
              "Hospital_type_code_f                  uint8\n",
              "Hospital_type_code_g                  uint8\n",
              "Hospital_region_code_X                uint8\n",
              "Hospital_region_code_Y                uint8\n",
              "Hospital_region_code_Z                uint8\n",
              "Department_TB & Chest disease         uint8\n",
              "Department_anesthesia                 uint8\n",
              "Department_gynecology                 uint8\n",
              "Department_radiotherapy               uint8\n",
              "Department_surgery                    uint8\n",
              "Ward_Type_P                           uint8\n",
              "Ward_Type_Q                           uint8\n",
              "Ward_Type_R                           uint8\n",
              "Ward_Type_S                           uint8\n",
              "Ward_Type_T                           uint8\n",
              "Ward_Type_U                           uint8\n",
              "Ward_Facility_Code_A                  uint8\n",
              "Ward_Facility_Code_B                  uint8\n",
              "Ward_Facility_Code_C                  uint8\n",
              "Ward_Facility_Code_D                  uint8\n",
              "Ward_Facility_Code_E                  uint8\n",
              "Ward_Facility_Code_F                  uint8\n",
              "Type of Admission_Emergency           uint8\n",
              "Type of Admission_Trauma              uint8\n",
              "Type of Admission_Urgent              uint8\n",
              "Severity of Illness_Extreme           uint8\n",
              "Severity of Illness_Minor             uint8\n",
              "Severity of Illness_Moderate          uint8\n",
              "Age_0-10                              uint8\n",
              "Age_11-20                             uint8\n",
              "Age_21-30                             uint8\n",
              "Age_31-40                             uint8\n",
              "Age_41-50                             uint8\n",
              "Age_51-60                             uint8\n",
              "Age_61-70                             uint8\n",
              "Age_71-80                             uint8\n",
              "Age_81-90                             uint8\n",
              "Age_91-100                            uint8\n",
              "dtype: object"
            ]
          },
          "metadata": {},
          "execution_count": 78
        }
      ]
    },
    {
      "cell_type": "code",
      "metadata": {
        "id": "Y41vJi8h3jtk"
      },
      "source": [
        "df_train['Stay'] = df_train['Stay'].astype(int)\n",
        "#setting Stay as int"
      ],
      "execution_count": null,
      "outputs": []
    },
    {
      "cell_type": "code",
      "metadata": {
        "id": "HGVisYdS3u-m"
      },
      "source": [
        "df_train, final = train_test_split(df_train, test_size=None, random_state=None, shuffle=True, stratify=df_train['Stay'])\n",
        "#train size will automatically get alloted\n",
        "#stratifying as Stay as it is dependent feature"
      ],
      "execution_count": null,
      "outputs": []
    },
    {
      "cell_type": "code",
      "metadata": {
        "colab": {
          "base_uri": "https://localhost:8080/"
        },
        "id": "RWmfH77j4z_g",
        "outputId": "5456aa52-45dc-4d82-fba0-9e87e7308b30"
      },
      "source": [
        "feature_cols = df_train.columns.tolist()\n",
        "feature_cols.remove('Stay')\n",
        "#feature_cols.remove('Admission_Deposit')\n",
        "label_col = 'Stay'\n",
        "print(feature_cols)"
      ],
      "execution_count": null,
      "outputs": [
        {
          "output_type": "stream",
          "name": "stdout",
          "text": [
            "['Hospital_code', 'City_Code_Hospital', 'Available Extra Rooms in Hospital', 'Bed Grade', 'City_Code_Patient', 'Visitors with Patient', 'Admission_Deposit', 'Hospital_type_code_a', 'Hospital_type_code_b', 'Hospital_type_code_c', 'Hospital_type_code_d', 'Hospital_type_code_e', 'Hospital_type_code_f', 'Hospital_type_code_g', 'Hospital_region_code_X', 'Hospital_region_code_Y', 'Hospital_region_code_Z', 'Department_TB & Chest disease', 'Department_anesthesia', 'Department_gynecology', 'Department_radiotherapy', 'Department_surgery', 'Ward_Type_P', 'Ward_Type_Q', 'Ward_Type_R', 'Ward_Type_S', 'Ward_Type_T', 'Ward_Type_U', 'Ward_Facility_Code_A', 'Ward_Facility_Code_B', 'Ward_Facility_Code_C', 'Ward_Facility_Code_D', 'Ward_Facility_Code_E', 'Ward_Facility_Code_F', 'Type of Admission_Emergency', 'Type of Admission_Trauma', 'Type of Admission_Urgent', 'Severity of Illness_Extreme', 'Severity of Illness_Minor', 'Severity of Illness_Moderate', 'Age_0-10', 'Age_11-20', 'Age_21-30', 'Age_31-40', 'Age_41-50', 'Age_51-60', 'Age_61-70', 'Age_71-80', 'Age_81-90', 'Age_91-100']\n"
          ]
        }
      ]
    },
    {
      "cell_type": "code",
      "metadata": {
        "id": "-BjBihWo5x_H"
      },
      "source": [
        "cat_cols = feature_cols"
      ],
      "execution_count": null,
      "outputs": []
    },
    {
      "cell_type": "code",
      "metadata": {
        "id": "lfBU_WXf6Fsv"
      },
      "source": [
        "params = {}\n",
        "params['learning_rate'] = 0.06\n",
        "params['max_depth'] = 50\n",
        "params['n_estimators'] = 500\n",
        "params['objective'] = 'multiclass'\n",
        "params['boosting_type'] = 'gbdt'\n",
        "params['subsample'] = 0.7\n",
        "params['random_state'] = 42\n",
        "params['colsample_bytree']=0.7\n",
        "params['min_data_in_leaf'] = 55\n",
        "params['reg_alpha'] = 1.6\n",
        "params['reg_lambda'] = 1.1"
      ],
      "execution_count": null,
      "outputs": []
    },
    {
      "cell_type": "code",
      "metadata": {
        "colab": {
          "base_uri": "https://localhost:8080/"
        },
        "id": "WYTkBSws6hDM",
        "outputId": "1c12ed47-50ae-4588-a0af-83181b25e17f"
      },
      "source": [
        "clf = lgb.LGBMClassifier(**params)\n",
        "    \n",
        "clf.fit(df_train[feature_cols], df_train[label_col], early_stopping_rounds=100, eval_set=[(df_train[feature_cols], df_train[label_col]), (final[feature_cols], final[label_col])], eval_metric='multi_error', verbose=True, categorical_feature=cat_cols)\n",
        "\n",
        "final_score = accuracy_score(final[label_col], clf.predict(final[feature_cols]))\n",
        "\n",
        "print('Eval ACC: {}'.format(final_score))"
      ],
      "execution_count": null,
      "outputs": [
        {
          "output_type": "stream",
          "name": "stdout",
          "text": [
            "[1]\tvalid_0's multi_error: 0.72525\tvalid_0's multi_logloss: 1.86995\tvalid_1's multi_error: 0.725248\tvalid_1's multi_logloss: 1.8715\n",
            "Training until validation scores don't improve for 100 rounds.\n",
            "[2]\tvalid_0's multi_error: 0.724806\tvalid_0's multi_logloss: 1.84945\tvalid_1's multi_error: 0.725022\tvalid_1's multi_logloss: 1.85273\n",
            "[3]\tvalid_0's multi_error: 0.720452\tvalid_0's multi_logloss: 1.83098\tvalid_1's multi_error: 0.722221\tvalid_1's multi_logloss: 1.83662\n",
            "[4]\tvalid_0's multi_error: 0.707773\tvalid_0's multi_logloss: 1.81275\tvalid_1's multi_error: 0.711556\tvalid_1's multi_logloss: 1.82063\n",
            "[5]\tvalid_0's multi_error: 0.699596\tvalid_0's multi_logloss: 1.80196\tvalid_1's multi_error: 0.704949\tvalid_1's multi_logloss: 1.81202\n",
            "[6]\tvalid_0's multi_error: 0.690635\tvalid_0's multi_logloss: 1.78652\tvalid_1's multi_error: 0.696973\tvalid_1's multi_logloss: 1.79861\n",
            "[7]\tvalid_0's multi_error: 0.681218\tvalid_0's multi_logloss: 1.77802\tvalid_1's multi_error: 0.690001\tvalid_1's multi_logloss: 1.79191\n",
            "[8]\tvalid_0's multi_error: 0.674435\tvalid_0's multi_logloss: 1.76522\tvalid_1's multi_error: 0.682515\tvalid_1's multi_logloss: 1.78037\n",
            "[9]\tvalid_0's multi_error: 0.662653\tvalid_0's multi_logloss: 1.75641\tvalid_1's multi_error: 0.672767\tvalid_1's multi_logloss: 1.77401\n",
            "[10]\tvalid_0's multi_error: 0.652168\tvalid_0's multi_logloss: 1.74503\tvalid_1's multi_error: 0.662856\tvalid_1's multi_logloss: 1.76457\n",
            "[11]\tvalid_0's multi_error: 0.640051\tvalid_0's multi_logloss: 1.73429\tvalid_1's multi_error: 0.65223\tvalid_1's multi_logloss: 1.75571\n",
            "[12]\tvalid_0's multi_error: 0.6332\tvalid_0's multi_logloss: 1.72467\tvalid_1's multi_error: 0.646276\tvalid_1's multi_logloss: 1.74839\n",
            "[13]\tvalid_0's multi_error: 0.626124\tvalid_0's multi_logloss: 1.71363\tvalid_1's multi_error: 0.639882\tvalid_1's multi_logloss: 1.73902\n",
            "[14]\tvalid_0's multi_error: 0.619149\tvalid_0's multi_logloss: 1.70348\tvalid_1's multi_error: 0.634531\tvalid_1's multi_logloss: 1.73131\n",
            "[15]\tvalid_0's multi_error: 0.61049\tvalid_0's multi_logloss: 1.69235\tvalid_1's multi_error: 0.62712\tvalid_1's multi_logloss: 1.72224\n",
            "[16]\tvalid_0's multi_error: 0.604385\tvalid_0's multi_logloss: 1.68304\tvalid_1's multi_error: 0.621367\tvalid_1's multi_logloss: 1.71479\n",
            "[17]\tvalid_0's multi_error: 0.59936\tvalid_0's multi_logloss: 1.67526\tvalid_1's multi_error: 0.618076\tvalid_1's multi_logloss: 1.70938\n",
            "[18]\tvalid_0's multi_error: 0.593532\tvalid_0's multi_logloss: 1.66712\tvalid_1's multi_error: 0.613981\tvalid_1's multi_logloss: 1.70339\n",
            "[19]\tvalid_0's multi_error: 0.587268\tvalid_0's multi_logloss: 1.65779\tvalid_1's multi_error: 0.608303\tvalid_1's multi_logloss: 1.6964\n",
            "[20]\tvalid_0's multi_error: 0.58383\tvalid_0's multi_logloss: 1.65082\tvalid_1's multi_error: 0.605037\tvalid_1's multi_logloss: 1.6913\n",
            "[21]\tvalid_0's multi_error: 0.581854\tvalid_0's multi_logloss: 1.6441\tvalid_1's multi_error: 0.603316\tvalid_1's multi_logloss: 1.6861\n",
            "[22]\tvalid_0's multi_error: 0.578843\tvalid_0's multi_logloss: 1.63666\tvalid_1's multi_error: 0.601193\tvalid_1's multi_logloss: 1.68124\n",
            "[23]\tvalid_0's multi_error: 0.576536\tvalid_0's multi_logloss: 1.62864\tvalid_1's multi_error: 0.598681\tvalid_1's multi_logloss: 1.67469\n",
            "[24]\tvalid_0's multi_error: 0.575067\tvalid_0's multi_logloss: 1.62149\tvalid_1's multi_error: 0.597726\tvalid_1's multi_logloss: 1.6694\n",
            "[25]\tvalid_0's multi_error: 0.574242\tvalid_0's multi_logloss: 1.61496\tvalid_1's multi_error: 0.597211\tvalid_1's multi_logloss: 1.66445\n",
            "[26]\tvalid_0's multi_error: 0.571914\tvalid_0's multi_logloss: 1.60764\tvalid_1's multi_error: 0.595189\tvalid_1's multi_logloss: 1.65956\n",
            "[27]\tvalid_0's multi_error: 0.570879\tvalid_0's multi_logloss: 1.60304\tvalid_1's multi_error: 0.594699\tvalid_1's multi_logloss: 1.6572\n",
            "[28]\tvalid_0's multi_error: 0.569489\tvalid_0's multi_logloss: 1.59661\tvalid_1's multi_error: 0.594184\tvalid_1's multi_logloss: 1.65275\n",
            "[29]\tvalid_0's multi_error: 0.5691\tvalid_0's multi_logloss: 1.59113\tvalid_1's multi_error: 0.593883\tvalid_1's multi_logloss: 1.64916\n",
            "[30]\tvalid_0's multi_error: 0.567438\tvalid_0's multi_logloss: 1.58494\tvalid_1's multi_error: 0.593481\tvalid_1's multi_logloss: 1.64495\n",
            "[31]\tvalid_0's multi_error: 0.56642\tvalid_0's multi_logloss: 1.57925\tvalid_1's multi_error: 0.592752\tvalid_1's multi_logloss: 1.64095\n",
            "[32]\tvalid_0's multi_error: 0.565872\tvalid_0's multi_logloss: 1.57464\tvalid_1's multi_error: 0.592802\tvalid_1's multi_logloss: 1.63798\n",
            "[33]\tvalid_0's multi_error: 0.565172\tvalid_0's multi_logloss: 1.57053\tvalid_1's multi_error: 0.592915\tvalid_1's multi_logloss: 1.63544\n",
            "[34]\tvalid_0's multi_error: 0.564113\tvalid_0's multi_logloss: 1.56508\tvalid_1's multi_error: 0.592815\tvalid_1's multi_logloss: 1.63212\n",
            "[35]\tvalid_0's multi_error: 0.5632\tvalid_0's multi_logloss: 1.56166\tvalid_1's multi_error: 0.592338\tvalid_1's multi_logloss: 1.63035\n",
            "[36]\tvalid_0's multi_error: 0.561982\tvalid_0's multi_logloss: 1.55613\tvalid_1's multi_error: 0.592388\tvalid_1's multi_logloss: 1.627\n",
            "[37]\tvalid_0's multi_error: 0.560709\tvalid_0's multi_logloss: 1.55175\tvalid_1's multi_error: 0.591458\tvalid_1's multi_logloss: 1.62461\n",
            "[38]\tvalid_0's multi_error: 0.559796\tvalid_0's multi_logloss: 1.54796\tvalid_1's multi_error: 0.590968\tvalid_1's multi_logloss: 1.62278\n",
            "[39]\tvalid_0's multi_error: 0.558787\tvalid_0's multi_logloss: 1.54416\tvalid_1's multi_error: 0.590541\tvalid_1's multi_logloss: 1.6207\n",
            "[40]\tvalid_0's multi_error: 0.558289\tvalid_0's multi_logloss: 1.54077\tvalid_1's multi_error: 0.590642\tvalid_1's multi_logloss: 1.61884\n",
            "[41]\tvalid_0's multi_error: 0.55787\tvalid_0's multi_logloss: 1.53733\tvalid_1's multi_error: 0.590567\tvalid_1's multi_logloss: 1.61759\n",
            "[42]\tvalid_0's multi_error: 0.556869\tvalid_0's multi_logloss: 1.53292\tvalid_1's multi_error: 0.590491\tvalid_1's multi_logloss: 1.61495\n",
            "[43]\tvalid_0's multi_error: 0.555994\tvalid_0's multi_logloss: 1.52831\tvalid_1's multi_error: 0.590667\tvalid_1's multi_logloss: 1.61243\n",
            "[44]\tvalid_0's multi_error: 0.555253\tvalid_0's multi_logloss: 1.52458\tvalid_1's multi_error: 0.590516\tvalid_1's multi_logloss: 1.61014\n",
            "[45]\tvalid_0's multi_error: 0.554382\tvalid_0's multi_logloss: 1.52088\tvalid_1's multi_error: 0.590202\tvalid_1's multi_logloss: 1.6081\n",
            "[46]\tvalid_0's multi_error: 0.553742\tvalid_0's multi_logloss: 1.5178\tvalid_1's multi_error: 0.590252\tvalid_1's multi_logloss: 1.607\n",
            "[47]\tvalid_0's multi_error: 0.553\tvalid_0's multi_logloss: 1.51372\tvalid_1's multi_error: 0.590026\tvalid_1's multi_logloss: 1.60486\n",
            "[48]\tvalid_0's multi_error: 0.552381\tvalid_0's multi_logloss: 1.51062\tvalid_1's multi_error: 0.589888\tvalid_1's multi_logloss: 1.60353\n",
            "[49]\tvalid_0's multi_error: 0.551682\tvalid_0's multi_logloss: 1.50701\tvalid_1's multi_error: 0.589599\tvalid_1's multi_logloss: 1.60123\n",
            "[50]\tvalid_0's multi_error: 0.550878\tvalid_0's multi_logloss: 1.50384\tvalid_1's multi_error: 0.589436\tvalid_1's multi_logloss: 1.60004\n",
            "[51]\tvalid_0's multi_error: 0.550492\tvalid_0's multi_logloss: 1.50072\tvalid_1's multi_error: 0.589109\tvalid_1's multi_logloss: 1.59863\n",
            "[52]\tvalid_0's multi_error: 0.550107\tvalid_0's multi_logloss: 1.49728\tvalid_1's multi_error: 0.58916\tvalid_1's multi_logloss: 1.59702\n",
            "[53]\tvalid_0's multi_error: 0.549726\tvalid_0's multi_logloss: 1.49364\tvalid_1's multi_error: 0.589197\tvalid_1's multi_logloss: 1.59538\n",
            "[54]\tvalid_0's multi_error: 0.549086\tvalid_0's multi_logloss: 1.49041\tvalid_1's multi_error: 0.588795\tvalid_1's multi_logloss: 1.59374\n",
            "[55]\tvalid_0's multi_error: 0.548411\tvalid_0's multi_logloss: 1.48771\tvalid_1's multi_error: 0.588795\tvalid_1's multi_logloss: 1.59284\n",
            "[56]\tvalid_0's multi_error: 0.54793\tvalid_0's multi_logloss: 1.48525\tvalid_1's multi_error: 0.589084\tvalid_1's multi_logloss: 1.59151\n",
            "[57]\tvalid_0's multi_error: 0.547218\tvalid_0's multi_logloss: 1.48245\tvalid_1's multi_error: 0.588984\tvalid_1's multi_logloss: 1.58989\n",
            "[58]\tvalid_0's multi_error: 0.546351\tvalid_0's multi_logloss: 1.47946\tvalid_1's multi_error: 0.588594\tvalid_1's multi_logloss: 1.58864\n",
            "[59]\tvalid_0's multi_error: 0.545711\tvalid_0's multi_logloss: 1.47651\tvalid_1's multi_error: 0.588959\tvalid_1's multi_logloss: 1.58767\n",
            "[60]\tvalid_0's multi_error: 0.545539\tvalid_0's multi_logloss: 1.47438\tvalid_1's multi_error: 0.588921\tvalid_1's multi_logloss: 1.58655\n",
            "[61]\tvalid_0's multi_error: 0.544861\tvalid_0's multi_logloss: 1.47187\tvalid_1's multi_error: 0.588883\tvalid_1's multi_logloss: 1.58533\n",
            "[62]\tvalid_0's multi_error: 0.544216\tvalid_0's multi_logloss: 1.46909\tvalid_1's multi_error: 0.588632\tvalid_1's multi_logloss: 1.58413\n",
            "[63]\tvalid_0's multi_error: 0.543705\tvalid_0's multi_logloss: 1.46698\tvalid_1's multi_error: 0.588959\tvalid_1's multi_logloss: 1.58352\n",
            "[64]\tvalid_0's multi_error: 0.543056\tvalid_0's multi_logloss: 1.46431\tvalid_1's multi_error: 0.588858\tvalid_1's multi_logloss: 1.58274\n",
            "[65]\tvalid_0's multi_error: 0.542587\tvalid_0's multi_logloss: 1.46164\tvalid_1's multi_error: 0.588896\tvalid_1's multi_logloss: 1.58157\n",
            "[66]\tvalid_0's multi_error: 0.542231\tvalid_0's multi_logloss: 1.45923\tvalid_1's multi_error: 0.588657\tvalid_1's multi_logloss: 1.5805\n",
            "[67]\tvalid_0's multi_error: 0.541557\tvalid_0's multi_logloss: 1.45678\tvalid_1's multi_error: 0.588406\tvalid_1's multi_logloss: 1.5798\n",
            "[68]\tvalid_0's multi_error: 0.540875\tvalid_0's multi_logloss: 1.4547\tvalid_1's multi_error: 0.58813\tvalid_1's multi_logloss: 1.57885\n",
            "[69]\tvalid_0's multi_error: 0.540297\tvalid_0's multi_logloss: 1.45186\tvalid_1's multi_error: 0.58823\tvalid_1's multi_logloss: 1.57819\n",
            "[70]\tvalid_0's multi_error: 0.539539\tvalid_0's multi_logloss: 1.44949\tvalid_1's multi_error: 0.588506\tvalid_1's multi_logloss: 1.57772\n",
            "[71]\tvalid_0's multi_error: 0.538861\tvalid_0's multi_logloss: 1.44719\tvalid_1's multi_error: 0.588632\tvalid_1's multi_logloss: 1.57721\n",
            "[72]\tvalid_0's multi_error: 0.538023\tvalid_0's multi_logloss: 1.445\tvalid_1's multi_error: 0.588532\tvalid_1's multi_logloss: 1.57651\n",
            "[73]\tvalid_0's multi_error: 0.537445\tvalid_0's multi_logloss: 1.44262\tvalid_1's multi_error: 0.588607\tvalid_1's multi_logloss: 1.57586\n",
            "[74]\tvalid_0's multi_error: 0.537089\tvalid_0's multi_logloss: 1.44019\tvalid_1's multi_error: 0.588707\tvalid_1's multi_logloss: 1.57531\n",
            "[75]\tvalid_0's multi_error: 0.536558\tvalid_0's multi_logloss: 1.43822\tvalid_1's multi_error: 0.588783\tvalid_1's multi_logloss: 1.57465\n",
            "[76]\tvalid_0's multi_error: 0.53593\tvalid_0's multi_logloss: 1.43622\tvalid_1's multi_error: 0.588946\tvalid_1's multi_logloss: 1.57417\n",
            "[77]\tvalid_0's multi_error: 0.535565\tvalid_0's multi_logloss: 1.43434\tvalid_1's multi_error: 0.588934\tvalid_1's multi_logloss: 1.5737\n",
            "[78]\tvalid_0's multi_error: 0.535084\tvalid_0's multi_logloss: 1.43236\tvalid_1's multi_error: 0.58931\tvalid_1's multi_logloss: 1.5731\n",
            "[79]\tvalid_0's multi_error: 0.53495\tvalid_0's multi_logloss: 1.4305\tvalid_1's multi_error: 0.589084\tvalid_1's multi_logloss: 1.57218\n",
            "[80]\tvalid_0's multi_error: 0.53387\tvalid_0's multi_logloss: 1.4281\tvalid_1's multi_error: 0.589109\tvalid_1's multi_logloss: 1.57169\n",
            "[81]\tvalid_0's multi_error: 0.533308\tvalid_0's multi_logloss: 1.42623\tvalid_1's multi_error: 0.589072\tvalid_1's multi_logloss: 1.57127\n",
            "[82]\tvalid_0's multi_error: 0.532659\tvalid_0's multi_logloss: 1.42448\tvalid_1's multi_error: 0.589172\tvalid_1's multi_logloss: 1.57102\n",
            "[83]\tvalid_0's multi_error: 0.532258\tvalid_0's multi_logloss: 1.42254\tvalid_1's multi_error: 0.589097\tvalid_1's multi_logloss: 1.57072\n",
            "[84]\tvalid_0's multi_error: 0.531646\tvalid_0's multi_logloss: 1.42048\tvalid_1's multi_error: 0.588984\tvalid_1's multi_logloss: 1.57032\n",
            "[85]\tvalid_0's multi_error: 0.531269\tvalid_0's multi_logloss: 1.41867\tvalid_1's multi_error: 0.58882\tvalid_1's multi_logloss: 1.56951\n",
            "[86]\tvalid_0's multi_error: 0.53039\tvalid_0's multi_logloss: 1.41665\tvalid_1's multi_error: 0.588896\tvalid_1's multi_logloss: 1.56951\n",
            "[87]\tvalid_0's multi_error: 0.530411\tvalid_0's multi_logloss: 1.41488\tvalid_1's multi_error: 0.589021\tvalid_1's multi_logloss: 1.56881\n",
            "[88]\tvalid_0's multi_error: 0.529678\tvalid_0's multi_logloss: 1.41321\tvalid_1's multi_error: 0.589273\tvalid_1's multi_logloss: 1.56855\n",
            "[89]\tvalid_0's multi_error: 0.529213\tvalid_0's multi_logloss: 1.4112\tvalid_1's multi_error: 0.589222\tvalid_1's multi_logloss: 1.568\n",
            "[90]\tvalid_0's multi_error: 0.528979\tvalid_0's multi_logloss: 1.41014\tvalid_1's multi_error: 0.589122\tvalid_1's multi_logloss: 1.56759\n",
            "[91]\tvalid_0's multi_error: 0.528359\tvalid_0's multi_logloss: 1.40826\tvalid_1's multi_error: 0.589072\tvalid_1's multi_logloss: 1.56708\n",
            "[92]\tvalid_0's multi_error: 0.528016\tvalid_0's multi_logloss: 1.40641\tvalid_1's multi_error: 0.589009\tvalid_1's multi_logloss: 1.56666\n",
            "[93]\tvalid_0's multi_error: 0.527694\tvalid_0's multi_logloss: 1.40458\tvalid_1's multi_error: 0.589059\tvalid_1's multi_logloss: 1.5665\n",
            "[94]\tvalid_0's multi_error: 0.527246\tvalid_0's multi_logloss: 1.40288\tvalid_1's multi_error: 0.588959\tvalid_1's multi_logloss: 1.56621\n",
            "[95]\tvalid_0's multi_error: 0.526617\tvalid_0's multi_logloss: 1.40109\tvalid_1's multi_error: 0.588883\tvalid_1's multi_logloss: 1.56589\n",
            "[96]\tvalid_0's multi_error: 0.526027\tvalid_0's multi_logloss: 1.39926\tvalid_1's multi_error: 0.589197\tvalid_1's multi_logloss: 1.56569\n",
            "[97]\tvalid_0's multi_error: 0.525211\tvalid_0's multi_logloss: 1.39745\tvalid_1's multi_error: 0.589122\tvalid_1's multi_logloss: 1.56537\n",
            "[98]\tvalid_0's multi_error: 0.524687\tvalid_0's multi_logloss: 1.3957\tvalid_1's multi_error: 0.589486\tvalid_1's multi_logloss: 1.56545\n",
            "[99]\tvalid_0's multi_error: 0.524369\tvalid_0's multi_logloss: 1.3943\tvalid_1's multi_error: 0.589323\tvalid_1's multi_logloss: 1.56502\n",
            "[100]\tvalid_0's multi_error: 0.52382\tvalid_0's multi_logloss: 1.39268\tvalid_1's multi_error: 0.58921\tvalid_1's multi_logloss: 1.56481\n",
            "[101]\tvalid_0's multi_error: 0.523335\tvalid_0's multi_logloss: 1.39099\tvalid_1's multi_error: 0.589172\tvalid_1's multi_logloss: 1.56454\n",
            "[102]\tvalid_0's multi_error: 0.523159\tvalid_0's multi_logloss: 1.38929\tvalid_1's multi_error: 0.589449\tvalid_1's multi_logloss: 1.56438\n",
            "[103]\tvalid_0's multi_error: 0.522497\tvalid_0's multi_logloss: 1.3877\tvalid_1's multi_error: 0.589436\tvalid_1's multi_logloss: 1.56446\n",
            "[104]\tvalid_0's multi_error: 0.521823\tvalid_0's multi_logloss: 1.38589\tvalid_1's multi_error: 0.589712\tvalid_1's multi_logloss: 1.56446\n",
            "[105]\tvalid_0's multi_error: 0.521656\tvalid_0's multi_logloss: 1.38437\tvalid_1's multi_error: 0.589825\tvalid_1's multi_logloss: 1.56416\n",
            "[106]\tvalid_0's multi_error: 0.521074\tvalid_0's multi_logloss: 1.38289\tvalid_1's multi_error: 0.590001\tvalid_1's multi_logloss: 1.56411\n",
            "[107]\tvalid_0's multi_error: 0.520521\tvalid_0's multi_logloss: 1.38115\tvalid_1's multi_error: 0.590165\tvalid_1's multi_logloss: 1.56405\n",
            "[108]\tvalid_0's multi_error: 0.519872\tvalid_0's multi_logloss: 1.37981\tvalid_1's multi_error: 0.590227\tvalid_1's multi_logloss: 1.56392\n",
            "[109]\tvalid_0's multi_error: 0.519508\tvalid_0's multi_logloss: 1.37835\tvalid_1's multi_error: 0.590165\tvalid_1's multi_logloss: 1.56365\n",
            "[110]\tvalid_0's multi_error: 0.519043\tvalid_0's multi_logloss: 1.37697\tvalid_1's multi_error: 0.59024\tvalid_1's multi_logloss: 1.56369\n",
            "[111]\tvalid_0's multi_error: 0.518695\tvalid_0's multi_logloss: 1.37561\tvalid_1's multi_error: 0.589976\tvalid_1's multi_logloss: 1.56364\n",
            "[112]\tvalid_0's multi_error: 0.518348\tvalid_0's multi_logloss: 1.37427\tvalid_1's multi_error: 0.590315\tvalid_1's multi_logloss: 1.56365\n",
            "[113]\tvalid_0's multi_error: 0.517933\tvalid_0's multi_logloss: 1.37284\tvalid_1's multi_error: 0.590403\tvalid_1's multi_logloss: 1.56352\n",
            "[114]\tvalid_0's multi_error: 0.517418\tvalid_0's multi_logloss: 1.37141\tvalid_1's multi_error: 0.590441\tvalid_1's multi_logloss: 1.56351\n",
            "[115]\tvalid_0's multi_error: 0.517142\tvalid_0's multi_logloss: 1.37028\tvalid_1's multi_error: 0.590353\tvalid_1's multi_logloss: 1.56329\n",
            "[116]\tvalid_0's multi_error: 0.516782\tvalid_0's multi_logloss: 1.36894\tvalid_1's multi_error: 0.59034\tvalid_1's multi_logloss: 1.56323\n",
            "[117]\tvalid_0's multi_error: 0.516338\tvalid_0's multi_logloss: 1.36751\tvalid_1's multi_error: 0.590592\tvalid_1's multi_logloss: 1.56325\n",
            "[118]\tvalid_0's multi_error: 0.515932\tvalid_0's multi_logloss: 1.36621\tvalid_1's multi_error: 0.590378\tvalid_1's multi_logloss: 1.56326\n",
            "[119]\tvalid_0's multi_error: 0.515597\tvalid_0's multi_logloss: 1.36492\tvalid_1's multi_error: 0.590629\tvalid_1's multi_logloss: 1.56321\n",
            "[120]\tvalid_0's multi_error: 0.515111\tvalid_0's multi_logloss: 1.36334\tvalid_1's multi_error: 0.59078\tvalid_1's multi_logloss: 1.56323\n",
            "[121]\tvalid_0's multi_error: 0.514617\tvalid_0's multi_logloss: 1.3621\tvalid_1's multi_error: 0.590629\tvalid_1's multi_logloss: 1.56321\n",
            "[122]\tvalid_0's multi_error: 0.514098\tvalid_0's multi_logloss: 1.36087\tvalid_1's multi_error: 0.590717\tvalid_1's multi_logloss: 1.56305\n",
            "[123]\tvalid_0's multi_error: 0.513817\tvalid_0's multi_logloss: 1.3597\tvalid_1's multi_error: 0.59083\tvalid_1's multi_logloss: 1.56301\n",
            "[124]\tvalid_0's multi_error: 0.513399\tvalid_0's multi_logloss: 1.35832\tvalid_1's multi_error: 0.590793\tvalid_1's multi_logloss: 1.56301\n",
            "[125]\tvalid_0's multi_error: 0.512959\tvalid_0's multi_logloss: 1.35695\tvalid_1's multi_error: 0.590654\tvalid_1's multi_logloss: 1.56314\n",
            "[126]\tvalid_0's multi_error: 0.512658\tvalid_0's multi_logloss: 1.35585\tvalid_1's multi_error: 0.590541\tvalid_1's multi_logloss: 1.56307\n",
            "[127]\tvalid_0's multi_error: 0.512314\tvalid_0's multi_logloss: 1.35468\tvalid_1's multi_error: 0.590717\tvalid_1's multi_logloss: 1.56306\n",
            "[128]\tvalid_0's multi_error: 0.512059\tvalid_0's multi_logloss: 1.35349\tvalid_1's multi_error: 0.590642\tvalid_1's multi_logloss: 1.56294\n",
            "[129]\tvalid_0's multi_error: 0.511615\tvalid_0's multi_logloss: 1.35246\tvalid_1's multi_error: 0.590441\tvalid_1's multi_logloss: 1.56303\n",
            "[130]\tvalid_0's multi_error: 0.511259\tvalid_0's multi_logloss: 1.35143\tvalid_1's multi_error: 0.590654\tvalid_1's multi_logloss: 1.563\n",
            "[131]\tvalid_0's multi_error: 0.511129\tvalid_0's multi_logloss: 1.35053\tvalid_1's multi_error: 0.590579\tvalid_1's multi_logloss: 1.56287\n",
            "[132]\tvalid_0's multi_error: 0.510778\tvalid_0's multi_logloss: 1.34942\tvalid_1's multi_error: 0.590805\tvalid_1's multi_logloss: 1.56276\n",
            "[133]\tvalid_0's multi_error: 0.510254\tvalid_0's multi_logloss: 1.34807\tvalid_1's multi_error: 0.590843\tvalid_1's multi_logloss: 1.56297\n",
            "[134]\tvalid_0's multi_error: 0.509903\tvalid_0's multi_logloss: 1.34698\tvalid_1's multi_error: 0.590918\tvalid_1's multi_logloss: 1.56292\n",
            "[135]\tvalid_0's multi_error: 0.509547\tvalid_0's multi_logloss: 1.34593\tvalid_1's multi_error: 0.590918\tvalid_1's multi_logloss: 1.56298\n",
            "[136]\tvalid_0's multi_error: 0.509078\tvalid_0's multi_logloss: 1.34471\tvalid_1's multi_error: 0.591082\tvalid_1's multi_logloss: 1.56312\n",
            "[137]\tvalid_0's multi_error: 0.508663\tvalid_0's multi_logloss: 1.34342\tvalid_1's multi_error: 0.591283\tvalid_1's multi_logloss: 1.56319\n",
            "[138]\tvalid_0's multi_error: 0.508491\tvalid_0's multi_logloss: 1.34262\tvalid_1's multi_error: 0.59132\tvalid_1's multi_logloss: 1.56301\n",
            "[139]\tvalid_0's multi_error: 0.508299\tvalid_0's multi_logloss: 1.34169\tvalid_1's multi_error: 0.591144\tvalid_1's multi_logloss: 1.56291\n",
            "[140]\tvalid_0's multi_error: 0.507976\tvalid_0's multi_logloss: 1.34055\tvalid_1's multi_error: 0.590956\tvalid_1's multi_logloss: 1.56299\n",
            "[141]\tvalid_0's multi_error: 0.50742\tvalid_0's multi_logloss: 1.33936\tvalid_1's multi_error: 0.591019\tvalid_1's multi_logloss: 1.56299\n",
            "[142]\tvalid_0's multi_error: 0.507139\tvalid_0's multi_logloss: 1.3382\tvalid_1's multi_error: 0.590881\tvalid_1's multi_logloss: 1.56303\n",
            "[143]\tvalid_0's multi_error: 0.506787\tvalid_0's multi_logloss: 1.33718\tvalid_1's multi_error: 0.591006\tvalid_1's multi_logloss: 1.56303\n",
            "[144]\tvalid_0's multi_error: 0.506235\tvalid_0's multi_logloss: 1.33596\tvalid_1's multi_error: 0.591182\tvalid_1's multi_logloss: 1.56328\n",
            "[145]\tvalid_0's multi_error: 0.505778\tvalid_0's multi_logloss: 1.33494\tvalid_1's multi_error: 0.59132\tvalid_1's multi_logloss: 1.56335\n",
            "[146]\tvalid_0's multi_error: 0.505347\tvalid_0's multi_logloss: 1.3339\tvalid_1's multi_error: 0.591119\tvalid_1's multi_logloss: 1.56349\n",
            "[147]\tvalid_0's multi_error: 0.505008\tvalid_0's multi_logloss: 1.33296\tvalid_1's multi_error: 0.59127\tvalid_1's multi_logloss: 1.56345\n",
            "[148]\tvalid_0's multi_error: 0.504702\tvalid_0's multi_logloss: 1.33202\tvalid_1's multi_error: 0.59132\tvalid_1's multi_logloss: 1.56334\n",
            "[149]\tvalid_0's multi_error: 0.504438\tvalid_0's multi_logloss: 1.33108\tvalid_1's multi_error: 0.591358\tvalid_1's multi_logloss: 1.56334\n",
            "[150]\tvalid_0's multi_error: 0.503957\tvalid_0's multi_logloss: 1.33003\tvalid_1's multi_error: 0.591295\tvalid_1's multi_logloss: 1.56347\n",
            "[151]\tvalid_0's multi_error: 0.503542\tvalid_0's multi_logloss: 1.32877\tvalid_1's multi_error: 0.59127\tvalid_1's multi_logloss: 1.56363\n",
            "[152]\tvalid_0's multi_error: 0.503232\tvalid_0's multi_logloss: 1.32782\tvalid_1's multi_error: 0.591383\tvalid_1's multi_logloss: 1.56363\n",
            "[153]\tvalid_0's multi_error: 0.502889\tvalid_0's multi_logloss: 1.32676\tvalid_1's multi_error: 0.591446\tvalid_1's multi_logloss: 1.56373\n",
            "[154]\tvalid_0's multi_error: 0.502341\tvalid_0's multi_logloss: 1.32562\tvalid_1's multi_error: 0.591609\tvalid_1's multi_logloss: 1.56386\n",
            "[155]\tvalid_0's multi_error: 0.502077\tvalid_0's multi_logloss: 1.32477\tvalid_1's multi_error: 0.591559\tvalid_1's multi_logloss: 1.56378\n",
            "[156]\tvalid_0's multi_error: 0.50188\tvalid_0's multi_logloss: 1.32377\tvalid_1's multi_error: 0.591735\tvalid_1's multi_logloss: 1.564\n",
            "[157]\tvalid_0's multi_error: 0.501646\tvalid_0's multi_logloss: 1.32303\tvalid_1's multi_error: 0.591483\tvalid_1's multi_logloss: 1.56394\n",
            "[158]\tvalid_0's multi_error: 0.501273\tvalid_0's multi_logloss: 1.32206\tvalid_1's multi_error: 0.591195\tvalid_1's multi_logloss: 1.56387\n",
            "[159]\tvalid_0's multi_error: 0.500775\tvalid_0's multi_logloss: 1.32109\tvalid_1's multi_error: 0.591559\tvalid_1's multi_logloss: 1.56401\n",
            "[160]\tvalid_0's multi_error: 0.50054\tvalid_0's multi_logloss: 1.32031\tvalid_1's multi_error: 0.591433\tvalid_1's multi_logloss: 1.56404\n",
            "[161]\tvalid_0's multi_error: 0.500105\tvalid_0's multi_logloss: 1.31927\tvalid_1's multi_error: 0.591509\tvalid_1's multi_logloss: 1.56424\n",
            "[162]\tvalid_0's multi_error: 0.499791\tvalid_0's multi_logloss: 1.31827\tvalid_1's multi_error: 0.591672\tvalid_1's multi_logloss: 1.56431\n",
            "[163]\tvalid_0's multi_error: 0.499439\tvalid_0's multi_logloss: 1.31737\tvalid_1's multi_error: 0.591722\tvalid_1's multi_logloss: 1.56449\n",
            "[164]\tvalid_0's multi_error: 0.499091\tvalid_0's multi_logloss: 1.31651\tvalid_1's multi_error: 0.591659\tvalid_1's multi_logloss: 1.56461\n",
            "[165]\tvalid_0's multi_error: 0.498861\tvalid_0's multi_logloss: 1.31558\tvalid_1's multi_error: 0.591597\tvalid_1's multi_logloss: 1.56458\n",
            "[166]\tvalid_0's multi_error: 0.498371\tvalid_0's multi_logloss: 1.31471\tvalid_1's multi_error: 0.591571\tvalid_1's multi_logloss: 1.56464\n",
            "[167]\tvalid_0's multi_error: 0.498124\tvalid_0's multi_logloss: 1.31393\tvalid_1's multi_error: 0.591659\tvalid_1's multi_logloss: 1.56457\n",
            "[168]\tvalid_0's multi_error: 0.497756\tvalid_0's multi_logloss: 1.31312\tvalid_1's multi_error: 0.591735\tvalid_1's multi_logloss: 1.56467\n",
            "Early stopping, best iteration is:\n",
            "[68]\tvalid_0's multi_error: 0.540875\tvalid_0's multi_logloss: 1.4547\tvalid_1's multi_error: 0.58813\tvalid_1's multi_logloss: 1.57885\n",
            "Eval ACC: 0.41187036804421556\n"
          ]
        }
      ]
    },
    {
      "cell_type": "code",
      "metadata": {
        "colab": {
          "base_uri": "https://localhost:8080/"
        },
        "id": "lsRzwXaf6_E0",
        "outputId": "1af47b42-9622-4f33-8d5a-09de81e255ca"
      },
      "source": [
        "best_iter = clf.best_iteration_\n",
        "params['n_estimators'] = best_iter\n",
        "print(params)\n"
      ],
      "execution_count": null,
      "outputs": [
        {
          "output_type": "stream",
          "name": "stdout",
          "text": [
            "{'learning_rate': 0.06, 'max_depth': 50, 'n_estimators': 68, 'objective': 'multiclass', 'boosting_type': 'gbdt', 'subsample': 0.7, 'random_state': 42, 'colsample_bytree': 0.7, 'min_data_in_leaf': 55, 'reg_alpha': 1.6, 'reg_lambda': 1.1}\n"
          ]
        }
      ]
    },
    {
      "cell_type": "code",
      "metadata": {
        "id": "1ASbRYmHB6yR"
      },
      "source": [
        "df_train = pd.concat((df_train, final))"
      ],
      "execution_count": null,
      "outputs": []
    },
    {
      "cell_type": "code",
      "metadata": {
        "colab": {
          "base_uri": "https://localhost:8080/"
        },
        "id": "BqU9cwWwCFra",
        "outputId": "2434d924-cd1a-41ff-d229-5477b5352288"
      },
      "source": [
        "clf = lgb.LGBMClassifier(**params)\n",
        "\n",
        "clf.fit(df_train[feature_cols], df_train[label_col], eval_metric='multi_error', verbose=False, categorical_feature=cat_cols)\n",
        "\n",
        "eval_score_acc = accuracy_score(df_train[label_col], clf.predict(df_train[feature_cols]))\n",
        "\n",
        "print('ACC: {}'.format(eval_score_acc))"
      ],
      "execution_count": null,
      "outputs": [
        {
          "output_type": "stream",
          "name": "stdout",
          "text": [
            "ACC: 0.4526878073596744\n"
          ]
        }
      ]
    },
    {
      "cell_type": "code",
      "metadata": {
        "colab": {
          "base_uri": "https://localhost:8080/"
        },
        "id": "TuP1WX4VCNE2",
        "outputId": "2a5a993a-5058-48ba-b7ea-b5c32edbc404"
      },
      "source": [
        "preds = clf.predict(df_test[feature_cols])\n",
        "preds"
      ],
      "execution_count": null,
      "outputs": [
        {
          "output_type": "execute_result",
          "data": {
            "text/plain": [
              "array([2, 5, 2, ..., 2, 1, 3])"
            ]
          },
          "metadata": {},
          "execution_count": 89
        }
      ]
    },
    {
      "cell_type": "code",
      "metadata": {
        "colab": {
          "base_uri": "https://localhost:8080/"
        },
        "id": "0B1GHCvIDLCB",
        "outputId": "a27e7160-1a9a-41f6-9240-216d3107f541"
      },
      "source": [
        "preds = le.inverse_transform(preds)\n",
        "preds"
      ],
      "execution_count": null,
      "outputs": [
        {
          "output_type": "execute_result",
          "data": {
            "text/plain": [
              "array(['21-30', '51-60', '21-30', ..., '21-30', '11-20', '31-40'],\n",
              "      dtype=object)"
            ]
          },
          "metadata": {},
          "execution_count": 90
        }
      ]
    },
    {
      "cell_type": "code",
      "metadata": {
        "id": "p_RQmseeDUpV"
      },
      "source": [
        "test1 = pd.read_csv('/content/drive/MyDrive/AV Proj/test.csv')"
      ],
      "execution_count": null,
      "outputs": []
    },
    {
      "cell_type": "code",
      "metadata": {
        "id": "HjY1cybnD2tV"
      },
      "source": [
        "submit = pd.DataFrame({'case_id': test1.case_id, 'Stay': preds})"
      ],
      "execution_count": null,
      "outputs": []
    },
    {
      "cell_type": "code",
      "metadata": {
        "colab": {
          "base_uri": "https://localhost:8080/",
          "height": 204
        },
        "id": "GAgYCvVcD3ff",
        "outputId": "d7ddcff7-cbad-4a8f-8a18-1653f77f030b"
      },
      "source": [
        "submit.head()"
      ],
      "execution_count": null,
      "outputs": [
        {
          "output_type": "execute_result",
          "data": {
            "text/html": [
              "<div>\n",
              "<style scoped>\n",
              "    .dataframe tbody tr th:only-of-type {\n",
              "        vertical-align: middle;\n",
              "    }\n",
              "\n",
              "    .dataframe tbody tr th {\n",
              "        vertical-align: top;\n",
              "    }\n",
              "\n",
              "    .dataframe thead th {\n",
              "        text-align: right;\n",
              "    }\n",
              "</style>\n",
              "<table border=\"1\" class=\"dataframe\">\n",
              "  <thead>\n",
              "    <tr style=\"text-align: right;\">\n",
              "      <th></th>\n",
              "      <th>case_id</th>\n",
              "      <th>Stay</th>\n",
              "    </tr>\n",
              "  </thead>\n",
              "  <tbody>\n",
              "    <tr>\n",
              "      <th>0</th>\n",
              "      <td>318439</td>\n",
              "      <td>21-30</td>\n",
              "    </tr>\n",
              "    <tr>\n",
              "      <th>1</th>\n",
              "      <td>318440</td>\n",
              "      <td>51-60</td>\n",
              "    </tr>\n",
              "    <tr>\n",
              "      <th>2</th>\n",
              "      <td>318441</td>\n",
              "      <td>21-30</td>\n",
              "    </tr>\n",
              "    <tr>\n",
              "      <th>3</th>\n",
              "      <td>318442</td>\n",
              "      <td>21-30</td>\n",
              "    </tr>\n",
              "    <tr>\n",
              "      <th>4</th>\n",
              "      <td>318443</td>\n",
              "      <td>51-60</td>\n",
              "    </tr>\n",
              "  </tbody>\n",
              "</table>\n",
              "</div>"
            ],
            "text/plain": [
              "   case_id   Stay\n",
              "0   318439  21-30\n",
              "1   318440  51-60\n",
              "2   318441  21-30\n",
              "3   318442  21-30\n",
              "4   318443  51-60"
            ]
          },
          "metadata": {},
          "execution_count": 93
        }
      ]
    },
    {
      "cell_type": "code",
      "metadata": {
        "id": "Jv5FFmMHD5hC"
      },
      "source": [
        "submit.to_csv('submission_AV_HCare-II.csv', index=False)"
      ],
      "execution_count": null,
      "outputs": []
    },
    {
      "cell_type": "code",
      "metadata": {
        "id": "6fz9HARSD9Zj"
      },
      "source": [
        ""
      ],
      "execution_count": null,
      "outputs": []
    }
  ]
}