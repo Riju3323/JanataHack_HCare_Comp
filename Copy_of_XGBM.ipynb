{
  "nbformat": 4,
  "nbformat_minor": 0,
  "metadata": {
    "colab": {
      "name": "Copy of XGBM.ipynb",
      "provenance": [],
      "collapsed_sections": [],
      "mount_file_id": "1qrhrkjvUdtKUxI37g7aVncyGL4pJiRij",
      "authorship_tag": "ABX9TyNcv3M/PohALy9bwRD+fAy+",
      "include_colab_link": true
    },
    "kernelspec": {
      "name": "python3",
      "display_name": "Python 3"
    },
    "language_info": {
      "name": "python"
    },
    "accelerator": "GPU"
  },
  "cells": [
    {
      "cell_type": "markdown",
      "metadata": {
        "id": "view-in-github",
        "colab_type": "text"
      },
      "source": [
        "<a href=\"https://colab.research.google.com/github/Riju3323/JanataHack_HCare_Comp/blob/main/Copy_of_XGBM.ipynb\" target=\"_parent\"><img src=\"https://colab.research.google.com/assets/colab-badge.svg\" alt=\"Open In Colab\"/></a>"
      ]
    },
    {
      "cell_type": "markdown",
      "metadata": {
        "id": "stBKRptMqLGJ"
      },
      "source": [
        "Initialising all libraries."
      ]
    },
    {
      "cell_type": "code",
      "metadata": {
        "id": "1kplMUiJb0f9"
      },
      "source": [
        "import numpy as np\n",
        "import pandas as pd\n",
        "from matplotlib import pyplot as plt\n",
        "from sklearn import preprocessing\n",
        "from sklearn.model_selection import train_test_split\n",
        "from sklearn.metrics import accuracy_score\n",
        "%matplotlib inline\n",
        "import warnings\n",
        "warnings.filterwarnings('ignore')"
      ],
      "execution_count": null,
      "outputs": []
    },
    {
      "cell_type": "markdown",
      "metadata": {
        "id": "oxR3b8uNqjUE"
      },
      "source": [
        "Importing XGBM"
      ]
    },
    {
      "cell_type": "code",
      "metadata": {
        "id": "Hr-_hCekqtGM"
      },
      "source": [
        "import xgboost as xgb"
      ],
      "execution_count": null,
      "outputs": []
    },
    {
      "cell_type": "markdown",
      "metadata": {
        "id": "4vynZ14Rq2Fr"
      },
      "source": [
        "Accessing all provided data with Pandas"
      ]
    },
    {
      "cell_type": "code",
      "metadata": {
        "id": "NbhJFStqdYxl"
      },
      "source": [
        "df_train = pd.read_csv('/content/drive/MyDrive/AV Proj/train.csv')\n",
        "df_train_dict = pd.read_csv('/content/drive/MyDrive/AV Proj/train_data_dict.csv')\n",
        "df_test = pd.read_csv('/content/drive/MyDrive/AV Proj/test.csv')\n",
        "sample_op = pd.read_csv('/content/drive/MyDrive/AV Proj/sample_submission_lfbv3c3 (1).csv')"
      ],
      "execution_count": null,
      "outputs": []
    },
    {
      "cell_type": "code",
      "metadata": {
        "colab": {
          "base_uri": "https://localhost:8080/",
          "height": 360
        },
        "id": "f2NngVZAd17j",
        "outputId": "40c167eb-5356-44d7-880f-0fd49bdda49b"
      },
      "source": [
        "df_train.head()\n",
        "#printing train data set\n"
      ],
      "execution_count": null,
      "outputs": [
        {
          "output_type": "execute_result",
          "data": {
            "text/html": [
              "<div>\n",
              "<style scoped>\n",
              "    .dataframe tbody tr th:only-of-type {\n",
              "        vertical-align: middle;\n",
              "    }\n",
              "\n",
              "    .dataframe tbody tr th {\n",
              "        vertical-align: top;\n",
              "    }\n",
              "\n",
              "    .dataframe thead th {\n",
              "        text-align: right;\n",
              "    }\n",
              "</style>\n",
              "<table border=\"1\" class=\"dataframe\">\n",
              "  <thead>\n",
              "    <tr style=\"text-align: right;\">\n",
              "      <th></th>\n",
              "      <th>case_id</th>\n",
              "      <th>Hospital_code</th>\n",
              "      <th>Hospital_type_code</th>\n",
              "      <th>City_Code_Hospital</th>\n",
              "      <th>Hospital_region_code</th>\n",
              "      <th>Available Extra Rooms in Hospital</th>\n",
              "      <th>Department</th>\n",
              "      <th>Ward_Type</th>\n",
              "      <th>Ward_Facility_Code</th>\n",
              "      <th>Bed Grade</th>\n",
              "      <th>patientid</th>\n",
              "      <th>City_Code_Patient</th>\n",
              "      <th>Type of Admission</th>\n",
              "      <th>Severity of Illness</th>\n",
              "      <th>Visitors with Patient</th>\n",
              "      <th>Age</th>\n",
              "      <th>Admission_Deposit</th>\n",
              "      <th>Stay</th>\n",
              "    </tr>\n",
              "  </thead>\n",
              "  <tbody>\n",
              "    <tr>\n",
              "      <th>0</th>\n",
              "      <td>1</td>\n",
              "      <td>8</td>\n",
              "      <td>c</td>\n",
              "      <td>3</td>\n",
              "      <td>Z</td>\n",
              "      <td>3</td>\n",
              "      <td>radiotherapy</td>\n",
              "      <td>R</td>\n",
              "      <td>F</td>\n",
              "      <td>2.0</td>\n",
              "      <td>31397</td>\n",
              "      <td>7.0</td>\n",
              "      <td>Emergency</td>\n",
              "      <td>Extreme</td>\n",
              "      <td>2</td>\n",
              "      <td>51-60</td>\n",
              "      <td>4911.0</td>\n",
              "      <td>0-10</td>\n",
              "    </tr>\n",
              "    <tr>\n",
              "      <th>1</th>\n",
              "      <td>2</td>\n",
              "      <td>2</td>\n",
              "      <td>c</td>\n",
              "      <td>5</td>\n",
              "      <td>Z</td>\n",
              "      <td>2</td>\n",
              "      <td>radiotherapy</td>\n",
              "      <td>S</td>\n",
              "      <td>F</td>\n",
              "      <td>2.0</td>\n",
              "      <td>31397</td>\n",
              "      <td>7.0</td>\n",
              "      <td>Trauma</td>\n",
              "      <td>Extreme</td>\n",
              "      <td>2</td>\n",
              "      <td>51-60</td>\n",
              "      <td>5954.0</td>\n",
              "      <td>41-50</td>\n",
              "    </tr>\n",
              "    <tr>\n",
              "      <th>2</th>\n",
              "      <td>3</td>\n",
              "      <td>10</td>\n",
              "      <td>e</td>\n",
              "      <td>1</td>\n",
              "      <td>X</td>\n",
              "      <td>2</td>\n",
              "      <td>anesthesia</td>\n",
              "      <td>S</td>\n",
              "      <td>E</td>\n",
              "      <td>2.0</td>\n",
              "      <td>31397</td>\n",
              "      <td>7.0</td>\n",
              "      <td>Trauma</td>\n",
              "      <td>Extreme</td>\n",
              "      <td>2</td>\n",
              "      <td>51-60</td>\n",
              "      <td>4745.0</td>\n",
              "      <td>31-40</td>\n",
              "    </tr>\n",
              "    <tr>\n",
              "      <th>3</th>\n",
              "      <td>4</td>\n",
              "      <td>26</td>\n",
              "      <td>b</td>\n",
              "      <td>2</td>\n",
              "      <td>Y</td>\n",
              "      <td>2</td>\n",
              "      <td>radiotherapy</td>\n",
              "      <td>R</td>\n",
              "      <td>D</td>\n",
              "      <td>2.0</td>\n",
              "      <td>31397</td>\n",
              "      <td>7.0</td>\n",
              "      <td>Trauma</td>\n",
              "      <td>Extreme</td>\n",
              "      <td>2</td>\n",
              "      <td>51-60</td>\n",
              "      <td>7272.0</td>\n",
              "      <td>41-50</td>\n",
              "    </tr>\n",
              "    <tr>\n",
              "      <th>4</th>\n",
              "      <td>5</td>\n",
              "      <td>26</td>\n",
              "      <td>b</td>\n",
              "      <td>2</td>\n",
              "      <td>Y</td>\n",
              "      <td>2</td>\n",
              "      <td>radiotherapy</td>\n",
              "      <td>S</td>\n",
              "      <td>D</td>\n",
              "      <td>2.0</td>\n",
              "      <td>31397</td>\n",
              "      <td>7.0</td>\n",
              "      <td>Trauma</td>\n",
              "      <td>Extreme</td>\n",
              "      <td>2</td>\n",
              "      <td>51-60</td>\n",
              "      <td>5558.0</td>\n",
              "      <td>41-50</td>\n",
              "    </tr>\n",
              "  </tbody>\n",
              "</table>\n",
              "</div>"
            ],
            "text/plain": [
              "   case_id  Hospital_code Hospital_type_code  ...    Age Admission_Deposit   Stay\n",
              "0        1              8                  c  ...  51-60            4911.0   0-10\n",
              "1        2              2                  c  ...  51-60            5954.0  41-50\n",
              "2        3             10                  e  ...  51-60            4745.0  31-40\n",
              "3        4             26                  b  ...  51-60            7272.0  41-50\n",
              "4        5             26                  b  ...  51-60            5558.0  41-50\n",
              "\n",
              "[5 rows x 18 columns]"
            ]
          },
          "metadata": {},
          "execution_count": 5
        }
      ]
    },
    {
      "cell_type": "code",
      "metadata": {
        "id": "xiI_1W52rx_N"
      },
      "source": [
        ""
      ],
      "execution_count": null,
      "outputs": []
    },
    {
      "cell_type": "code",
      "metadata": {
        "colab": {
          "base_uri": "https://localhost:8080/"
        },
        "id": "AGj4yz-3eMND",
        "outputId": "410242c3-cfe7-4f63-87c5-4134149e4b48"
      },
      "source": [
        "df_train.shape\n",
        "#viewing train set shape."
      ],
      "execution_count": null,
      "outputs": [
        {
          "output_type": "execute_result",
          "data": {
            "text/plain": [
              "(318438, 18)"
            ]
          },
          "metadata": {},
          "execution_count": 6
        }
      ]
    },
    {
      "cell_type": "code",
      "metadata": {
        "colab": {
          "base_uri": "https://localhost:8080/"
        },
        "id": "ytZK2Sc-rZtO",
        "outputId": "74554d84-645d-48a4-cc82-936aca9a6217"
      },
      "source": [
        "df_train.isnull().sum()\n",
        "#checking for Null cells"
      ],
      "execution_count": null,
      "outputs": [
        {
          "output_type": "execute_result",
          "data": {
            "text/plain": [
              "case_id                                 0\n",
              "Hospital_code                           0\n",
              "Hospital_type_code                      0\n",
              "City_Code_Hospital                      0\n",
              "Hospital_region_code                    0\n",
              "Available Extra Rooms in Hospital       0\n",
              "Department                              0\n",
              "Ward_Type                               0\n",
              "Ward_Facility_Code                      0\n",
              "Bed Grade                             113\n",
              "patientid                               0\n",
              "City_Code_Patient                    4532\n",
              "Type of Admission                       0\n",
              "Severity of Illness                     0\n",
              "Visitors with Patient                   0\n",
              "Age                                     0\n",
              "Admission_Deposit                       0\n",
              "Stay                                    0\n",
              "dtype: int64"
            ]
          },
          "metadata": {},
          "execution_count": 7
        }
      ]
    },
    {
      "cell_type": "code",
      "metadata": {
        "colab": {
          "base_uri": "https://localhost:8080/"
        },
        "id": "HIRlejZbrmlz",
        "outputId": "dc9813f8-e70d-420a-dbc6-15f58b867691"
      },
      "source": [
        "df_train.dtypes\n",
        "#observing all feature types"
      ],
      "execution_count": null,
      "outputs": [
        {
          "output_type": "execute_result",
          "data": {
            "text/plain": [
              "case_id                                int64\n",
              "Hospital_code                          int64\n",
              "Hospital_type_code                    object\n",
              "City_Code_Hospital                     int64\n",
              "Hospital_region_code                  object\n",
              "Available Extra Rooms in Hospital      int64\n",
              "Department                            object\n",
              "Ward_Type                             object\n",
              "Ward_Facility_Code                    object\n",
              "Bed Grade                            float64\n",
              "patientid                              int64\n",
              "City_Code_Patient                    float64\n",
              "Type of Admission                     object\n",
              "Severity of Illness                   object\n",
              "Visitors with Patient                  int64\n",
              "Age                                   object\n",
              "Admission_Deposit                    float64\n",
              "Stay                                  object\n",
              "dtype: object"
            ]
          },
          "metadata": {},
          "execution_count": 8
        }
      ]
    },
    {
      "cell_type": "code",
      "metadata": {
        "id": "DT7v-79jtsVZ"
      },
      "source": [
        "from sklearn.preprocessing import LabelEncoder, StandardScaler\n",
        "\n",
        "le = LabelEncoder()\n",
        "df_train['Stay'] = le.fit_transform(df_train['Stay'])\n",
        "# Label encoding Stay feature and returning encoded values"
      ],
      "execution_count": null,
      "outputs": []
    },
    {
      "cell_type": "code",
      "metadata": {
        "colab": {
          "base_uri": "https://localhost:8080/"
        },
        "id": "bb24EkgitpMo",
        "outputId": "dcc81b4c-83bb-4ed6-b9cc-c2feac5ed297"
      },
      "source": [
        "df_train['Stay'].value_counts()\n",
        "#for viewing spread of encoded values"
      ],
      "execution_count": null,
      "outputs": [
        {
          "output_type": "execute_result",
          "data": {
            "text/plain": [
              "2     87491\n",
              "1     78139\n",
              "3     55159\n",
              "5     35018\n",
              "0     23604\n",
              "4     11743\n",
              "7     10254\n",
              "10     6683\n",
              "8      4838\n",
              "9      2765\n",
              "6      2744\n",
              "Name: Stay, dtype: int64"
            ]
          },
          "metadata": {},
          "execution_count": 10
        }
      ]
    },
    {
      "cell_type": "markdown",
      "metadata": {
        "id": "IGvAjc0uuTxc"
      },
      "source": [
        "Creating a merged test and train table."
      ]
    },
    {
      "cell_type": "code",
      "metadata": {
        "colab": {
          "base_uri": "https://localhost:8080/"
        },
        "id": "jaCSKNjVuZxn",
        "outputId": "c9e17804-2a9b-4896-d938-d431502190ec"
      },
      "source": [
        "df_train['train_flag'] = 1\n",
        "df_test['train_flag'] = 0\n",
        "# Flags as separation marks between the two sets as we are about to merge.\n",
        "df_test['Stay'] = None\n",
        "#Creating this as a empty cell as test doesn't have it.\n",
        "print(df_train.shape, df_test.shape)\n",
        "\n",
        "df_a = pd.concat((df_train, df_test))\n",
        "print(df_a.shape)"
      ],
      "execution_count": null,
      "outputs": [
        {
          "output_type": "stream",
          "name": "stdout",
          "text": [
            "(318438, 19) (137057, 19)\n",
            "(455495, 19)\n"
          ]
        }
      ]
    },
    {
      "cell_type": "code",
      "metadata": {
        "id": "FKcigAphua0n"
      },
      "source": [
        "df_a.drop(['case_id','patientid'],axis=1,inplace=True)\n",
        "# Removing this columns as low significance in evaluating stay duration."
      ],
      "execution_count": null,
      "outputs": []
    },
    {
      "cell_type": "code",
      "metadata": {
        "id": "RNKyssY4uuwB"
      },
      "source": [
        "df_a['Bed Grade'] = np.where(df_a['Bed Grade'].isna(),1.0,df_a['Bed Grade'])\n",
        "df_a['City_Code_Patient'] = np.where(df_a['City_Code_Patient'].isna(),0.0,df_a['City_Code_Patient'])\n",
        "#As we saw these two features have null values, we are going to use pandas isna() to detect and replace them\n",
        "\n",
        "df_a['Bed Grade'] = df_a['Bed Grade'].astype(int)\n",
        "df_a['City_Code_Patient'] = df_a['City_Code_Patient'].astype(int)\n",
        "df_a['Admission_Deposit'] = df_a['Admission_Deposit'].astype(int)\n",
        "#As we saw, these three features have float types, so converting the float values into int values."
      ],
      "execution_count": null,
      "outputs": []
    },
    {
      "cell_type": "code",
      "metadata": {
        "colab": {
          "base_uri": "https://localhost:8080/"
        },
        "id": "2GmE7FEhxHo5",
        "outputId": "efe2ad85-350d-4914-d025-19c4314baec4"
      },
      "source": [
        "df_a.dtypes\n",
        "#observing all feature types again"
      ],
      "execution_count": null,
      "outputs": [
        {
          "output_type": "execute_result",
          "data": {
            "text/plain": [
              "Hospital_code                         int64\n",
              "Hospital_type_code                   object\n",
              "City_Code_Hospital                    int64\n",
              "Hospital_region_code                 object\n",
              "Available Extra Rooms in Hospital     int64\n",
              "Department                           object\n",
              "Ward_Type                            object\n",
              "Ward_Facility_Code                   object\n",
              "Bed Grade                             int64\n",
              "City_Code_Patient                     int64\n",
              "Type of Admission                    object\n",
              "Severity of Illness                  object\n",
              "Visitors with Patient                 int64\n",
              "Age                                  object\n",
              "Admission_Deposit                     int64\n",
              "Stay                                 object\n",
              "train_flag                            int64\n",
              "dtype: object"
            ]
          },
          "metadata": {},
          "execution_count": 14
        }
      ]
    },
    {
      "cell_type": "code",
      "metadata": {
        "colab": {
          "base_uri": "https://localhost:8080/"
        },
        "id": "r1IsdTYpxJue",
        "outputId": "72f9f943-f44c-4b8c-9857-471b7c2fc940"
      },
      "source": [
        "df_a.isnull().sum()\n",
        "#all nulls removed except stay which we set as \"None\""
      ],
      "execution_count": null,
      "outputs": [
        {
          "output_type": "execute_result",
          "data": {
            "text/plain": [
              "Hospital_code                             0\n",
              "Hospital_type_code                        0\n",
              "City_Code_Hospital                        0\n",
              "Hospital_region_code                      0\n",
              "Available Extra Rooms in Hospital         0\n",
              "Department                                0\n",
              "Ward_Type                                 0\n",
              "Ward_Facility_Code                        0\n",
              "Bed Grade                                 0\n",
              "City_Code_Patient                         0\n",
              "Type of Admission                         0\n",
              "Severity of Illness                       0\n",
              "Visitors with Patient                     0\n",
              "Age                                       0\n",
              "Admission_Deposit                         0\n",
              "Stay                                 137057\n",
              "train_flag                                0\n",
              "dtype: int64"
            ]
          },
          "metadata": {},
          "execution_count": 15
        }
      ]
    },
    {
      "cell_type": "code",
      "metadata": {
        "colab": {
          "base_uri": "https://localhost:8080/"
        },
        "id": "tk2XjGavxR-m",
        "outputId": "ccf3ef48-d5a6-48d3-b58c-f3d8ce44bb3a"
      },
      "source": [
        "temp=df_a.select_dtypes(['object']).columns\n",
        "temp=temp[:-1]\n",
        "temp\n",
        "#removing stay column"
      ],
      "execution_count": null,
      "outputs": [
        {
          "output_type": "execute_result",
          "data": {
            "text/plain": [
              "Index(['Hospital_type_code', 'Hospital_region_code', 'Department', 'Ward_Type',\n",
              "       'Ward_Facility_Code', 'Type of Admission', 'Severity of Illness',\n",
              "       'Age'],\n",
              "      dtype='object')"
            ]
          },
          "metadata": {},
          "execution_count": 16
        }
      ]
    },
    {
      "cell_type": "code",
      "metadata": {
        "id": "F1543NPKxyEf"
      },
      "source": [
        "df_a = pd.get_dummies(data=df_a,columns=['Hospital_type_code', 'Hospital_region_code', 'Department', 'Ward_Type',\n",
        "       'Ward_Facility_Code', 'Type of Admission', 'Severity of Illness',\n",
        "       'Age'])\n",
        "# creates dummy column for each unique value in this feature"
      ],
      "execution_count": null,
      "outputs": []
    },
    {
      "cell_type": "code",
      "metadata": {
        "id": "WxZfV7NGyoj0"
      },
      "source": [
        "df_train, df_test = df_a[df_a.train_flag == 1], df_a[df_a.train_flag == 0]\n",
        "df_train.drop(['train_flag'], inplace=True, axis=1)\n",
        "df_test.drop(['train_flag'], inplace=True, axis=1)\n",
        "df_test.drop(['Stay'], inplace=True, axis=1)\n",
        "#Dropping these features before gbm\n",
        "del df_a"
      ],
      "execution_count": null,
      "outputs": []
    },
    {
      "cell_type": "code",
      "metadata": {
        "colab": {
          "base_uri": "https://localhost:8080/"
        },
        "id": "sUrts4Vb2Ty6",
        "outputId": "ffde9e69-e15c-4527-a373-18ee77b34a57"
      },
      "source": [
        "df_train.dtypes"
      ],
      "execution_count": null,
      "outputs": [
        {
          "output_type": "execute_result",
          "data": {
            "text/plain": [
              "Hospital_code                         int64\n",
              "City_Code_Hospital                    int64\n",
              "Available Extra Rooms in Hospital     int64\n",
              "Bed Grade                             int64\n",
              "City_Code_Patient                     int64\n",
              "Visitors with Patient                 int64\n",
              "Admission_Deposit                     int64\n",
              "Stay                                 object\n",
              "Hospital_type_code_a                  uint8\n",
              "Hospital_type_code_b                  uint8\n",
              "Hospital_type_code_c                  uint8\n",
              "Hospital_type_code_d                  uint8\n",
              "Hospital_type_code_e                  uint8\n",
              "Hospital_type_code_f                  uint8\n",
              "Hospital_type_code_g                  uint8\n",
              "Hospital_region_code_X                uint8\n",
              "Hospital_region_code_Y                uint8\n",
              "Hospital_region_code_Z                uint8\n",
              "Department_TB & Chest disease         uint8\n",
              "Department_anesthesia                 uint8\n",
              "Department_gynecology                 uint8\n",
              "Department_radiotherapy               uint8\n",
              "Department_surgery                    uint8\n",
              "Ward_Type_P                           uint8\n",
              "Ward_Type_Q                           uint8\n",
              "Ward_Type_R                           uint8\n",
              "Ward_Type_S                           uint8\n",
              "Ward_Type_T                           uint8\n",
              "Ward_Type_U                           uint8\n",
              "Ward_Facility_Code_A                  uint8\n",
              "Ward_Facility_Code_B                  uint8\n",
              "Ward_Facility_Code_C                  uint8\n",
              "Ward_Facility_Code_D                  uint8\n",
              "Ward_Facility_Code_E                  uint8\n",
              "Ward_Facility_Code_F                  uint8\n",
              "Type of Admission_Emergency           uint8\n",
              "Type of Admission_Trauma              uint8\n",
              "Type of Admission_Urgent              uint8\n",
              "Severity of Illness_Extreme           uint8\n",
              "Severity of Illness_Minor             uint8\n",
              "Severity of Illness_Moderate          uint8\n",
              "Age_0-10                              uint8\n",
              "Age_11-20                             uint8\n",
              "Age_21-30                             uint8\n",
              "Age_31-40                             uint8\n",
              "Age_41-50                             uint8\n",
              "Age_51-60                             uint8\n",
              "Age_61-70                             uint8\n",
              "Age_71-80                             uint8\n",
              "Age_81-90                             uint8\n",
              "Age_91-100                            uint8\n",
              "dtype: object"
            ]
          },
          "metadata": {},
          "execution_count": 19
        }
      ]
    },
    {
      "cell_type": "code",
      "metadata": {
        "id": "Y41vJi8h3jtk"
      },
      "source": [
        "df_train['Stay'] = df_train['Stay'].astype(int)\n",
        "#setting Stay as int"
      ],
      "execution_count": null,
      "outputs": []
    },
    {
      "cell_type": "code",
      "metadata": {
        "id": "HGVisYdS3u-m"
      },
      "source": [
        "df_train, final = train_test_split(df_train, test_size=None, random_state=None, shuffle=True, stratify=df_train['Stay'])\n",
        "#train size will automatically get alloted\n",
        "#stratifying as Stay as it is dependent feature"
      ],
      "execution_count": null,
      "outputs": []
    },
    {
      "cell_type": "code",
      "metadata": {
        "colab": {
          "base_uri": "https://localhost:8080/"
        },
        "id": "RWmfH77j4z_g",
        "outputId": "f9a84e44-18d6-484c-8f33-15b536cf669b"
      },
      "source": [
        "feature_cols = df_train.columns.tolist()\n",
        "feature_cols.remove('Stay')\n",
        "#feature_cols.remove('Admission_Deposit')\n",
        "label_col = 'Stay'\n",
        "print(feature_cols)"
      ],
      "execution_count": null,
      "outputs": [
        {
          "output_type": "stream",
          "name": "stdout",
          "text": [
            "['Hospital_code', 'City_Code_Hospital', 'Available Extra Rooms in Hospital', 'Bed Grade', 'City_Code_Patient', 'Visitors with Patient', 'Admission_Deposit', 'Hospital_type_code_a', 'Hospital_type_code_b', 'Hospital_type_code_c', 'Hospital_type_code_d', 'Hospital_type_code_e', 'Hospital_type_code_f', 'Hospital_type_code_g', 'Hospital_region_code_X', 'Hospital_region_code_Y', 'Hospital_region_code_Z', 'Department_TB & Chest disease', 'Department_anesthesia', 'Department_gynecology', 'Department_radiotherapy', 'Department_surgery', 'Ward_Type_P', 'Ward_Type_Q', 'Ward_Type_R', 'Ward_Type_S', 'Ward_Type_T', 'Ward_Type_U', 'Ward_Facility_Code_A', 'Ward_Facility_Code_B', 'Ward_Facility_Code_C', 'Ward_Facility_Code_D', 'Ward_Facility_Code_E', 'Ward_Facility_Code_F', 'Type of Admission_Emergency', 'Type of Admission_Trauma', 'Type of Admission_Urgent', 'Severity of Illness_Extreme', 'Severity of Illness_Minor', 'Severity of Illness_Moderate', 'Age_0-10', 'Age_11-20', 'Age_21-30', 'Age_31-40', 'Age_41-50', 'Age_51-60', 'Age_61-70', 'Age_71-80', 'Age_81-90', 'Age_91-100']\n"
          ]
        }
      ]
    },
    {
      "cell_type": "code",
      "metadata": {
        "id": "-BjBihWo5x_H"
      },
      "source": [
        "cat_cols = feature_cols"
      ],
      "execution_count": null,
      "outputs": []
    },
    {
      "cell_type": "code",
      "metadata": {
        "id": "lfBU_WXf6Fsv"
      },
      "source": [
        "params = {}\n",
        "params['learning_rate'] = 0.1\n",
        "params['max_depth'] = 10\n",
        "params['n_estimators'] = 100\n",
        "params['min_child_weight'] = 1\n",
        "params['subsample'] = 0.7\n",
        "params['colsample_bytree']=0.7\n",
        "params['scale_pos_weight']=1\n",
        "params['reg_alpha'] = 1.6\n",
        "params['reg_lambda'] = 1.2"
      ],
      "execution_count": null,
      "outputs": []
    },
    {
      "cell_type": "code",
      "metadata": {
        "colab": {
          "base_uri": "https://localhost:8080/"
        },
        "id": "m_dfXnfwbG_V",
        "outputId": "fc053d41-2c02-44bb-b6fe-ae292ba235f6"
      },
      "source": [
        "clf = xgb.XGBClassifier(**params)\n",
        "    \n",
        "clf.fit(df_train[feature_cols], df_train[label_col], early_stopping_rounds=100, eval_set=[(df_train[feature_cols], df_train[label_col]), (final[feature_cols], final[label_col])], eval_metric='mlogloss', verbose=True)\n",
        "\n",
        "final_score = accuracy_score(final[label_col], clf.predict(final[feature_cols]))\n",
        "\n",
        "print('Eval ACC: {}'.format(final_score))"
      ],
      "execution_count": null,
      "outputs": [
        {
          "output_type": "stream",
          "name": "stdout",
          "text": [
            "[0]\tvalidation_0-mlogloss:2.30364\tvalidation_1-mlogloss:2.30707\n",
            "Multiple eval metrics have been passed: 'validation_1-mlogloss' will be used for early stopping.\n",
            "\n",
            "Will train until validation_1-mlogloss hasn't improved in 100 rounds.\n",
            "[1]\tvalidation_0-mlogloss:2.21168\tvalidation_1-mlogloss:2.21802\n",
            "[2]\tvalidation_0-mlogloss:2.13571\tvalidation_1-mlogloss:2.14478\n",
            "[3]\tvalidation_0-mlogloss:2.07084\tvalidation_1-mlogloss:2.0829\n",
            "[4]\tvalidation_0-mlogloss:2.0194\tvalidation_1-mlogloss:2.03379\n",
            "[5]\tvalidation_0-mlogloss:1.97564\tvalidation_1-mlogloss:1.99284\n",
            "[6]\tvalidation_0-mlogloss:1.93321\tvalidation_1-mlogloss:1.9532\n",
            "[7]\tvalidation_0-mlogloss:1.8962\tvalidation_1-mlogloss:1.91824\n",
            "[8]\tvalidation_0-mlogloss:1.8617\tvalidation_1-mlogloss:1.88598\n",
            "[9]\tvalidation_0-mlogloss:1.83002\tvalidation_1-mlogloss:1.85655\n",
            "[10]\tvalidation_0-mlogloss:1.80181\tvalidation_1-mlogloss:1.83087\n",
            "[11]\tvalidation_0-mlogloss:1.77606\tvalidation_1-mlogloss:1.80728\n",
            "[12]\tvalidation_0-mlogloss:1.75155\tvalidation_1-mlogloss:1.78498\n",
            "[13]\tvalidation_0-mlogloss:1.72892\tvalidation_1-mlogloss:1.76469\n",
            "[14]\tvalidation_0-mlogloss:1.70769\tvalidation_1-mlogloss:1.74558\n",
            "[15]\tvalidation_0-mlogloss:1.68962\tvalidation_1-mlogloss:1.7298\n",
            "[16]\tvalidation_0-mlogloss:1.67136\tvalidation_1-mlogloss:1.7137\n",
            "[17]\tvalidation_0-mlogloss:1.65621\tvalidation_1-mlogloss:1.70069\n",
            "[18]\tvalidation_0-mlogloss:1.6422\tvalidation_1-mlogloss:1.68878\n",
            "[19]\tvalidation_0-mlogloss:1.62911\tvalidation_1-mlogloss:1.67741\n",
            "[20]\tvalidation_0-mlogloss:1.61624\tvalidation_1-mlogloss:1.66615\n",
            "[21]\tvalidation_0-mlogloss:1.60301\tvalidation_1-mlogloss:1.65501\n",
            "[22]\tvalidation_0-mlogloss:1.59006\tvalidation_1-mlogloss:1.64426\n",
            "[23]\tvalidation_0-mlogloss:1.57953\tvalidation_1-mlogloss:1.63555\n",
            "[24]\tvalidation_0-mlogloss:1.56886\tvalidation_1-mlogloss:1.62673\n",
            "[25]\tvalidation_0-mlogloss:1.56013\tvalidation_1-mlogloss:1.6199\n",
            "[26]\tvalidation_0-mlogloss:1.55068\tvalidation_1-mlogloss:1.61237\n",
            "[27]\tvalidation_0-mlogloss:1.54263\tvalidation_1-mlogloss:1.60627\n",
            "[28]\tvalidation_0-mlogloss:1.53473\tvalidation_1-mlogloss:1.59986\n",
            "[29]\tvalidation_0-mlogloss:1.52652\tvalidation_1-mlogloss:1.59361\n",
            "[30]\tvalidation_0-mlogloss:1.5189\tvalidation_1-mlogloss:1.58812\n",
            "[31]\tvalidation_0-mlogloss:1.51229\tvalidation_1-mlogloss:1.58352\n",
            "[32]\tvalidation_0-mlogloss:1.50589\tvalidation_1-mlogloss:1.57909\n",
            "[33]\tvalidation_0-mlogloss:1.49993\tvalidation_1-mlogloss:1.57492\n",
            "[34]\tvalidation_0-mlogloss:1.49327\tvalidation_1-mlogloss:1.57024\n",
            "[35]\tvalidation_0-mlogloss:1.48764\tvalidation_1-mlogloss:1.56637\n",
            "[36]\tvalidation_0-mlogloss:1.48215\tvalidation_1-mlogloss:1.56294\n",
            "[37]\tvalidation_0-mlogloss:1.47673\tvalidation_1-mlogloss:1.55925\n",
            "[38]\tvalidation_0-mlogloss:1.47146\tvalidation_1-mlogloss:1.55571\n",
            "[39]\tvalidation_0-mlogloss:1.46698\tvalidation_1-mlogloss:1.55298\n",
            "[40]\tvalidation_0-mlogloss:1.46231\tvalidation_1-mlogloss:1.54998\n",
            "[41]\tvalidation_0-mlogloss:1.45774\tvalidation_1-mlogloss:1.54734\n",
            "[42]\tvalidation_0-mlogloss:1.45367\tvalidation_1-mlogloss:1.54506\n",
            "[43]\tvalidation_0-mlogloss:1.44959\tvalidation_1-mlogloss:1.54295\n",
            "[44]\tvalidation_0-mlogloss:1.44606\tvalidation_1-mlogloss:1.54112\n",
            "[45]\tvalidation_0-mlogloss:1.44252\tvalidation_1-mlogloss:1.53939\n",
            "[46]\tvalidation_0-mlogloss:1.43816\tvalidation_1-mlogloss:1.53698\n",
            "[47]\tvalidation_0-mlogloss:1.43453\tvalidation_1-mlogloss:1.53516\n",
            "[48]\tvalidation_0-mlogloss:1.43097\tvalidation_1-mlogloss:1.53346\n",
            "[49]\tvalidation_0-mlogloss:1.42767\tvalidation_1-mlogloss:1.53191\n",
            "[50]\tvalidation_0-mlogloss:1.4245\tvalidation_1-mlogloss:1.53028\n",
            "[51]\tvalidation_0-mlogloss:1.42115\tvalidation_1-mlogloss:1.52861\n",
            "[52]\tvalidation_0-mlogloss:1.41795\tvalidation_1-mlogloss:1.52696\n",
            "[53]\tvalidation_0-mlogloss:1.41493\tvalidation_1-mlogloss:1.52567\n",
            "[54]\tvalidation_0-mlogloss:1.41209\tvalidation_1-mlogloss:1.52455\n",
            "[55]\tvalidation_0-mlogloss:1.40897\tvalidation_1-mlogloss:1.52304\n",
            "[56]\tvalidation_0-mlogloss:1.40591\tvalidation_1-mlogloss:1.52163\n",
            "[57]\tvalidation_0-mlogloss:1.40309\tvalidation_1-mlogloss:1.52046\n",
            "[58]\tvalidation_0-mlogloss:1.40023\tvalidation_1-mlogloss:1.51932\n",
            "[59]\tvalidation_0-mlogloss:1.3978\tvalidation_1-mlogloss:1.5183\n",
            "[60]\tvalidation_0-mlogloss:1.39513\tvalidation_1-mlogloss:1.51743\n",
            "[61]\tvalidation_0-mlogloss:1.39256\tvalidation_1-mlogloss:1.51647\n",
            "[62]\tvalidation_0-mlogloss:1.38986\tvalidation_1-mlogloss:1.51545\n",
            "[63]\tvalidation_0-mlogloss:1.38725\tvalidation_1-mlogloss:1.51462\n",
            "[64]\tvalidation_0-mlogloss:1.38507\tvalidation_1-mlogloss:1.51406\n",
            "[65]\tvalidation_0-mlogloss:1.38267\tvalidation_1-mlogloss:1.51324\n",
            "[66]\tvalidation_0-mlogloss:1.38064\tvalidation_1-mlogloss:1.51261\n",
            "[67]\tvalidation_0-mlogloss:1.37856\tvalidation_1-mlogloss:1.51185\n",
            "[68]\tvalidation_0-mlogloss:1.37629\tvalidation_1-mlogloss:1.51123\n",
            "[69]\tvalidation_0-mlogloss:1.37386\tvalidation_1-mlogloss:1.51056\n",
            "[70]\tvalidation_0-mlogloss:1.37154\tvalidation_1-mlogloss:1.51005\n",
            "[71]\tvalidation_0-mlogloss:1.36953\tvalidation_1-mlogloss:1.50962\n",
            "[72]\tvalidation_0-mlogloss:1.36756\tvalidation_1-mlogloss:1.50903\n",
            "[73]\tvalidation_0-mlogloss:1.36565\tvalidation_1-mlogloss:1.50846\n",
            "[74]\tvalidation_0-mlogloss:1.36375\tvalidation_1-mlogloss:1.50799\n",
            "[75]\tvalidation_0-mlogloss:1.3619\tvalidation_1-mlogloss:1.50754\n",
            "[76]\tvalidation_0-mlogloss:1.35986\tvalidation_1-mlogloss:1.50713\n",
            "[77]\tvalidation_0-mlogloss:1.35752\tvalidation_1-mlogloss:1.50665\n",
            "[78]\tvalidation_0-mlogloss:1.35567\tvalidation_1-mlogloss:1.5063\n",
            "[79]\tvalidation_0-mlogloss:1.35383\tvalidation_1-mlogloss:1.50599\n",
            "[80]\tvalidation_0-mlogloss:1.35207\tvalidation_1-mlogloss:1.50557\n",
            "[81]\tvalidation_0-mlogloss:1.35033\tvalidation_1-mlogloss:1.50522\n",
            "[82]\tvalidation_0-mlogloss:1.34874\tvalidation_1-mlogloss:1.50496\n",
            "[83]\tvalidation_0-mlogloss:1.34682\tvalidation_1-mlogloss:1.50462\n",
            "[84]\tvalidation_0-mlogloss:1.34501\tvalidation_1-mlogloss:1.50428\n",
            "[85]\tvalidation_0-mlogloss:1.34327\tvalidation_1-mlogloss:1.50394\n",
            "[86]\tvalidation_0-mlogloss:1.34175\tvalidation_1-mlogloss:1.5037\n",
            "[87]\tvalidation_0-mlogloss:1.3402\tvalidation_1-mlogloss:1.50332\n",
            "[88]\tvalidation_0-mlogloss:1.33847\tvalidation_1-mlogloss:1.50307\n",
            "[89]\tvalidation_0-mlogloss:1.33682\tvalidation_1-mlogloss:1.50279\n",
            "[90]\tvalidation_0-mlogloss:1.33531\tvalidation_1-mlogloss:1.50248\n",
            "[91]\tvalidation_0-mlogloss:1.33346\tvalidation_1-mlogloss:1.50226\n",
            "[92]\tvalidation_0-mlogloss:1.33187\tvalidation_1-mlogloss:1.50208\n",
            "[93]\tvalidation_0-mlogloss:1.33042\tvalidation_1-mlogloss:1.50185\n",
            "[94]\tvalidation_0-mlogloss:1.32893\tvalidation_1-mlogloss:1.50162\n",
            "[95]\tvalidation_0-mlogloss:1.32726\tvalidation_1-mlogloss:1.50146\n",
            "[96]\tvalidation_0-mlogloss:1.32564\tvalidation_1-mlogloss:1.50123\n",
            "[97]\tvalidation_0-mlogloss:1.32417\tvalidation_1-mlogloss:1.5011\n",
            "[98]\tvalidation_0-mlogloss:1.32277\tvalidation_1-mlogloss:1.50095\n",
            "[99]\tvalidation_0-mlogloss:1.32142\tvalidation_1-mlogloss:1.5008\n",
            "Eval ACC: 0.42656701419419674\n"
          ]
        }
      ]
    },
    {
      "cell_type": "code",
      "metadata": {
        "colab": {
          "base_uri": "https://localhost:8080/"
        },
        "id": "ZFsOiWcYgfYb",
        "outputId": "03afd6fe-a5f1-42d9-8117-1a0a59d55d5b"
      },
      "source": [
        "best_iter = clf.best_iteration\n",
        "params['n_estimators'] = best_iter\n",
        "print(params)"
      ],
      "execution_count": null,
      "outputs": [
        {
          "output_type": "stream",
          "name": "stdout",
          "text": [
            "{'learning_rate': 0.1, 'max_depth': 10, 'n_estimators': 99, 'min_child_weight': 1, 'subsample': 0.7, 'colsample_bytree': 0.7, 'scale_pos_weight': 1, 'reg_alpha': 1.6, 'reg_lambda': 1.2}\n"
          ]
        }
      ]
    },
    {
      "cell_type": "code",
      "metadata": {
        "id": "SNlHloJ5ggLt"
      },
      "source": [
        "df_train = pd.concat((df_train, final))"
      ],
      "execution_count": null,
      "outputs": []
    },
    {
      "cell_type": "code",
      "metadata": {
        "colab": {
          "base_uri": "https://localhost:8080/"
        },
        "id": "egqK3I6cgmeR",
        "outputId": "1b139551-d50f-4961-98e1-0e1f8bda8e7e"
      },
      "source": [
        "clf = xgb.XGBClassifier(**params)\n",
        "\n",
        "clf.fit(df_train[feature_cols], df_train[label_col], eval_metric='merror', verbose=False)\n",
        "\n",
        "eval_score_acc = accuracy_score(df_train[label_col], clf.predict(df_train[feature_cols]))\n",
        "\n",
        "print('ACC: {}'.format(eval_score_acc))"
      ],
      "execution_count": null,
      "outputs": [
        {
          "output_type": "stream",
          "name": "stdout",
          "text": [
            "ACC: 0.49255428058209133\n"
          ]
        }
      ]
    },
    {
      "cell_type": "code",
      "metadata": {
        "id": "Bq5XhCEngzi7"
      },
      "source": [
        "alg_1 = clf.predict(df_test[feature_cols])\n",
        "alg_1 = le.inverse_transform(alg_1)\n",
        "temp_1 = pd.read_csv('/content/drive/MyDrive/AV Proj/test.csv')\n",
        "op = pd.DataFrame({'case_id': temp_1.case_id, 'Stay': alg_1})\n",
        "op.to_csv('Av-Eivor-XGBM_2.csv', index=False)"
      ],
      "execution_count": null,
      "outputs": []
    },
    {
      "cell_type": "code",
      "metadata": {
        "id": "z5OZUb6rpg96"
      },
      "source": [
        ""
      ],
      "execution_count": null,
      "outputs": []
    }
  ]
}